{
 "cells": [
  {
   "cell_type": "code",
   "execution_count": 1,
   "id": "eb184c78",
   "metadata": {},
   "outputs": [
    {
     "name": "stdout",
     "output_type": "stream",
     "text": [
      "2.7.0\n"
     ]
    }
   ],
   "source": [
    "import pandas as pd\n",
    "import numpy as np\n",
    "import random\n",
    "import tensorflow as tf\n",
    "from sklearn.preprocessing import LabelEncoder\n",
    "print(tf.__version__)"
   ]
  },
  {
   "cell_type": "code",
   "execution_count": 2,
   "id": "32a4252c",
   "metadata": {},
   "outputs": [],
   "source": [
    "import warnings\n",
    "warnings.filterwarnings(action='ignore')\n"
   ]
  },
  {
   "cell_type": "code",
   "execution_count": 3,
   "id": "8173015b",
   "metadata": {},
   "outputs": [],
   "source": [
    "df = pd.read_csv('기계마모.csv')"
   ]
  },
  {
   "cell_type": "code",
   "execution_count": 4,
   "id": "b7ada98c",
   "metadata": {},
   "outputs": [
    {
     "data": {
      "text/html": [
       "<div>\n",
       "<style scoped>\n",
       "    .dataframe tbody tr th:only-of-type {\n",
       "        vertical-align: middle;\n",
       "    }\n",
       "\n",
       "    .dataframe tbody tr th {\n",
       "        vertical-align: top;\n",
       "    }\n",
       "\n",
       "    .dataframe thead th {\n",
       "        text-align: right;\n",
       "    }\n",
       "</style>\n",
       "<table border=\"1\" class=\"dataframe\">\n",
       "  <thead>\n",
       "    <tr style=\"text-align: right;\">\n",
       "      <th></th>\n",
       "      <th>UDI</th>\n",
       "      <th>Product ID</th>\n",
       "      <th>Type</th>\n",
       "      <th>Air temperature [K]</th>\n",
       "      <th>Process temperature [K]</th>\n",
       "      <th>Rotational speed [rpm]</th>\n",
       "      <th>Torque [Nm]</th>\n",
       "      <th>Tool wear [min]</th>\n",
       "      <th>Machine failure</th>\n",
       "      <th>TWF</th>\n",
       "      <th>HDF</th>\n",
       "      <th>PWF</th>\n",
       "      <th>OSF</th>\n",
       "      <th>RNF</th>\n",
       "    </tr>\n",
       "  </thead>\n",
       "  <tbody>\n",
       "    <tr>\n",
       "      <th>0</th>\n",
       "      <td>1</td>\n",
       "      <td>M14860</td>\n",
       "      <td>M</td>\n",
       "      <td>298.1</td>\n",
       "      <td>308.6</td>\n",
       "      <td>1551</td>\n",
       "      <td>42.8</td>\n",
       "      <td>0</td>\n",
       "      <td>0</td>\n",
       "      <td>0</td>\n",
       "      <td>0</td>\n",
       "      <td>0</td>\n",
       "      <td>0</td>\n",
       "      <td>0</td>\n",
       "    </tr>\n",
       "    <tr>\n",
       "      <th>1</th>\n",
       "      <td>2</td>\n",
       "      <td>L47181</td>\n",
       "      <td>L</td>\n",
       "      <td>298.2</td>\n",
       "      <td>308.7</td>\n",
       "      <td>1408</td>\n",
       "      <td>46.3</td>\n",
       "      <td>3</td>\n",
       "      <td>0</td>\n",
       "      <td>0</td>\n",
       "      <td>0</td>\n",
       "      <td>0</td>\n",
       "      <td>0</td>\n",
       "      <td>0</td>\n",
       "    </tr>\n",
       "    <tr>\n",
       "      <th>2</th>\n",
       "      <td>3</td>\n",
       "      <td>L47182</td>\n",
       "      <td>L</td>\n",
       "      <td>298.1</td>\n",
       "      <td>308.5</td>\n",
       "      <td>1498</td>\n",
       "      <td>49.4</td>\n",
       "      <td>5</td>\n",
       "      <td>0</td>\n",
       "      <td>0</td>\n",
       "      <td>0</td>\n",
       "      <td>0</td>\n",
       "      <td>0</td>\n",
       "      <td>0</td>\n",
       "    </tr>\n",
       "    <tr>\n",
       "      <th>3</th>\n",
       "      <td>4</td>\n",
       "      <td>L47183</td>\n",
       "      <td>L</td>\n",
       "      <td>298.2</td>\n",
       "      <td>308.6</td>\n",
       "      <td>1433</td>\n",
       "      <td>39.5</td>\n",
       "      <td>7</td>\n",
       "      <td>0</td>\n",
       "      <td>0</td>\n",
       "      <td>0</td>\n",
       "      <td>0</td>\n",
       "      <td>0</td>\n",
       "      <td>0</td>\n",
       "    </tr>\n",
       "    <tr>\n",
       "      <th>4</th>\n",
       "      <td>5</td>\n",
       "      <td>L47184</td>\n",
       "      <td>L</td>\n",
       "      <td>298.2</td>\n",
       "      <td>308.7</td>\n",
       "      <td>1408</td>\n",
       "      <td>40.0</td>\n",
       "      <td>9</td>\n",
       "      <td>0</td>\n",
       "      <td>0</td>\n",
       "      <td>0</td>\n",
       "      <td>0</td>\n",
       "      <td>0</td>\n",
       "      <td>0</td>\n",
       "    </tr>\n",
       "    <tr>\n",
       "      <th>...</th>\n",
       "      <td>...</td>\n",
       "      <td>...</td>\n",
       "      <td>...</td>\n",
       "      <td>...</td>\n",
       "      <td>...</td>\n",
       "      <td>...</td>\n",
       "      <td>...</td>\n",
       "      <td>...</td>\n",
       "      <td>...</td>\n",
       "      <td>...</td>\n",
       "      <td>...</td>\n",
       "      <td>...</td>\n",
       "      <td>...</td>\n",
       "      <td>...</td>\n",
       "    </tr>\n",
       "    <tr>\n",
       "      <th>9995</th>\n",
       "      <td>9996</td>\n",
       "      <td>M24855</td>\n",
       "      <td>M</td>\n",
       "      <td>298.8</td>\n",
       "      <td>308.4</td>\n",
       "      <td>1604</td>\n",
       "      <td>29.5</td>\n",
       "      <td>14</td>\n",
       "      <td>0</td>\n",
       "      <td>0</td>\n",
       "      <td>0</td>\n",
       "      <td>0</td>\n",
       "      <td>0</td>\n",
       "      <td>0</td>\n",
       "    </tr>\n",
       "    <tr>\n",
       "      <th>9996</th>\n",
       "      <td>9997</td>\n",
       "      <td>H39410</td>\n",
       "      <td>H</td>\n",
       "      <td>298.9</td>\n",
       "      <td>308.4</td>\n",
       "      <td>1632</td>\n",
       "      <td>31.8</td>\n",
       "      <td>17</td>\n",
       "      <td>0</td>\n",
       "      <td>0</td>\n",
       "      <td>0</td>\n",
       "      <td>0</td>\n",
       "      <td>0</td>\n",
       "      <td>0</td>\n",
       "    </tr>\n",
       "    <tr>\n",
       "      <th>9997</th>\n",
       "      <td>9998</td>\n",
       "      <td>M24857</td>\n",
       "      <td>M</td>\n",
       "      <td>299.0</td>\n",
       "      <td>308.6</td>\n",
       "      <td>1645</td>\n",
       "      <td>33.4</td>\n",
       "      <td>22</td>\n",
       "      <td>0</td>\n",
       "      <td>0</td>\n",
       "      <td>0</td>\n",
       "      <td>0</td>\n",
       "      <td>0</td>\n",
       "      <td>0</td>\n",
       "    </tr>\n",
       "    <tr>\n",
       "      <th>9998</th>\n",
       "      <td>9999</td>\n",
       "      <td>H39412</td>\n",
       "      <td>H</td>\n",
       "      <td>299.0</td>\n",
       "      <td>308.7</td>\n",
       "      <td>1408</td>\n",
       "      <td>48.5</td>\n",
       "      <td>25</td>\n",
       "      <td>0</td>\n",
       "      <td>0</td>\n",
       "      <td>0</td>\n",
       "      <td>0</td>\n",
       "      <td>0</td>\n",
       "      <td>0</td>\n",
       "    </tr>\n",
       "    <tr>\n",
       "      <th>9999</th>\n",
       "      <td>10000</td>\n",
       "      <td>M24859</td>\n",
       "      <td>M</td>\n",
       "      <td>299.0</td>\n",
       "      <td>308.7</td>\n",
       "      <td>1500</td>\n",
       "      <td>40.2</td>\n",
       "      <td>30</td>\n",
       "      <td>0</td>\n",
       "      <td>0</td>\n",
       "      <td>0</td>\n",
       "      <td>0</td>\n",
       "      <td>0</td>\n",
       "      <td>0</td>\n",
       "    </tr>\n",
       "  </tbody>\n",
       "</table>\n",
       "<p>10000 rows × 14 columns</p>\n",
       "</div>"
      ],
      "text/plain": [
       "        UDI Product ID Type  Air temperature [K]  Process temperature [K]  \\\n",
       "0         1     M14860    M                298.1                    308.6   \n",
       "1         2     L47181    L                298.2                    308.7   \n",
       "2         3     L47182    L                298.1                    308.5   \n",
       "3         4     L47183    L                298.2                    308.6   \n",
       "4         5     L47184    L                298.2                    308.7   \n",
       "...     ...        ...  ...                  ...                      ...   \n",
       "9995   9996     M24855    M                298.8                    308.4   \n",
       "9996   9997     H39410    H                298.9                    308.4   \n",
       "9997   9998     M24857    M                299.0                    308.6   \n",
       "9998   9999     H39412    H                299.0                    308.7   \n",
       "9999  10000     M24859    M                299.0                    308.7   \n",
       "\n",
       "      Rotational speed [rpm]  Torque [Nm]  Tool wear [min]  Machine failure  \\\n",
       "0                       1551         42.8                0                0   \n",
       "1                       1408         46.3                3                0   \n",
       "2                       1498         49.4                5                0   \n",
       "3                       1433         39.5                7                0   \n",
       "4                       1408         40.0                9                0   \n",
       "...                      ...          ...              ...              ...   \n",
       "9995                    1604         29.5               14                0   \n",
       "9996                    1632         31.8               17                0   \n",
       "9997                    1645         33.4               22                0   \n",
       "9998                    1408         48.5               25                0   \n",
       "9999                    1500         40.2               30                0   \n",
       "\n",
       "      TWF  HDF  PWF  OSF  RNF  \n",
       "0       0    0    0    0    0  \n",
       "1       0    0    0    0    0  \n",
       "2       0    0    0    0    0  \n",
       "3       0    0    0    0    0  \n",
       "4       0    0    0    0    0  \n",
       "...   ...  ...  ...  ...  ...  \n",
       "9995    0    0    0    0    0  \n",
       "9996    0    0    0    0    0  \n",
       "9997    0    0    0    0    0  \n",
       "9998    0    0    0    0    0  \n",
       "9999    0    0    0    0    0  \n",
       "\n",
       "[10000 rows x 14 columns]"
      ]
     },
     "execution_count": 4,
     "metadata": {},
     "output_type": "execute_result"
    }
   ],
   "source": [
    "df"
   ]
  },
  {
   "cell_type": "code",
   "execution_count": 5,
   "id": "5c8de105",
   "metadata": {},
   "outputs": [],
   "source": [
    "a= set(df['Type'].values)\n",
    "value= list(a)\n",
    "value\n",
    "encoder1=LabelEncoder()\n",
    "encoder1.fit(value) \n",
    "df['Type']=encoder1.transform(df['Type'])\n",
    "df['Type'] = df['Type'].astype('category')"
   ]
  },
  {
   "cell_type": "code",
   "execution_count": 6,
   "id": "3ebe3a3c",
   "metadata": {},
   "outputs": [],
   "source": [
    "df.drop(columns=[\"UDI\", \"Product ID\", \"Type\",\"Torque [Nm]\"], inplace=True)"
   ]
  },
  {
   "cell_type": "code",
   "execution_count": 7,
   "id": "26089fca",
   "metadata": {},
   "outputs": [
    {
     "data": {
      "text/html": [
       "<div>\n",
       "<style scoped>\n",
       "    .dataframe tbody tr th:only-of-type {\n",
       "        vertical-align: middle;\n",
       "    }\n",
       "\n",
       "    .dataframe tbody tr th {\n",
       "        vertical-align: top;\n",
       "    }\n",
       "\n",
       "    .dataframe thead th {\n",
       "        text-align: right;\n",
       "    }\n",
       "</style>\n",
       "<table border=\"1\" class=\"dataframe\">\n",
       "  <thead>\n",
       "    <tr style=\"text-align: right;\">\n",
       "      <th></th>\n",
       "      <th>Air temperature [K]</th>\n",
       "      <th>Process temperature [K]</th>\n",
       "      <th>Rotational speed [rpm]</th>\n",
       "      <th>Tool wear [min]</th>\n",
       "      <th>Machine failure</th>\n",
       "      <th>TWF</th>\n",
       "      <th>HDF</th>\n",
       "      <th>PWF</th>\n",
       "      <th>OSF</th>\n",
       "      <th>RNF</th>\n",
       "    </tr>\n",
       "  </thead>\n",
       "  <tbody>\n",
       "    <tr>\n",
       "      <th>0</th>\n",
       "      <td>298.1</td>\n",
       "      <td>308.6</td>\n",
       "      <td>1551</td>\n",
       "      <td>0</td>\n",
       "      <td>0</td>\n",
       "      <td>0</td>\n",
       "      <td>0</td>\n",
       "      <td>0</td>\n",
       "      <td>0</td>\n",
       "      <td>0</td>\n",
       "    </tr>\n",
       "    <tr>\n",
       "      <th>1</th>\n",
       "      <td>298.2</td>\n",
       "      <td>308.7</td>\n",
       "      <td>1408</td>\n",
       "      <td>3</td>\n",
       "      <td>0</td>\n",
       "      <td>0</td>\n",
       "      <td>0</td>\n",
       "      <td>0</td>\n",
       "      <td>0</td>\n",
       "      <td>0</td>\n",
       "    </tr>\n",
       "    <tr>\n",
       "      <th>2</th>\n",
       "      <td>298.1</td>\n",
       "      <td>308.5</td>\n",
       "      <td>1498</td>\n",
       "      <td>5</td>\n",
       "      <td>0</td>\n",
       "      <td>0</td>\n",
       "      <td>0</td>\n",
       "      <td>0</td>\n",
       "      <td>0</td>\n",
       "      <td>0</td>\n",
       "    </tr>\n",
       "    <tr>\n",
       "      <th>3</th>\n",
       "      <td>298.2</td>\n",
       "      <td>308.6</td>\n",
       "      <td>1433</td>\n",
       "      <td>7</td>\n",
       "      <td>0</td>\n",
       "      <td>0</td>\n",
       "      <td>0</td>\n",
       "      <td>0</td>\n",
       "      <td>0</td>\n",
       "      <td>0</td>\n",
       "    </tr>\n",
       "    <tr>\n",
       "      <th>4</th>\n",
       "      <td>298.2</td>\n",
       "      <td>308.7</td>\n",
       "      <td>1408</td>\n",
       "      <td>9</td>\n",
       "      <td>0</td>\n",
       "      <td>0</td>\n",
       "      <td>0</td>\n",
       "      <td>0</td>\n",
       "      <td>0</td>\n",
       "      <td>0</td>\n",
       "    </tr>\n",
       "    <tr>\n",
       "      <th>...</th>\n",
       "      <td>...</td>\n",
       "      <td>...</td>\n",
       "      <td>...</td>\n",
       "      <td>...</td>\n",
       "      <td>...</td>\n",
       "      <td>...</td>\n",
       "      <td>...</td>\n",
       "      <td>...</td>\n",
       "      <td>...</td>\n",
       "      <td>...</td>\n",
       "    </tr>\n",
       "    <tr>\n",
       "      <th>9995</th>\n",
       "      <td>298.8</td>\n",
       "      <td>308.4</td>\n",
       "      <td>1604</td>\n",
       "      <td>14</td>\n",
       "      <td>0</td>\n",
       "      <td>0</td>\n",
       "      <td>0</td>\n",
       "      <td>0</td>\n",
       "      <td>0</td>\n",
       "      <td>0</td>\n",
       "    </tr>\n",
       "    <tr>\n",
       "      <th>9996</th>\n",
       "      <td>298.9</td>\n",
       "      <td>308.4</td>\n",
       "      <td>1632</td>\n",
       "      <td>17</td>\n",
       "      <td>0</td>\n",
       "      <td>0</td>\n",
       "      <td>0</td>\n",
       "      <td>0</td>\n",
       "      <td>0</td>\n",
       "      <td>0</td>\n",
       "    </tr>\n",
       "    <tr>\n",
       "      <th>9997</th>\n",
       "      <td>299.0</td>\n",
       "      <td>308.6</td>\n",
       "      <td>1645</td>\n",
       "      <td>22</td>\n",
       "      <td>0</td>\n",
       "      <td>0</td>\n",
       "      <td>0</td>\n",
       "      <td>0</td>\n",
       "      <td>0</td>\n",
       "      <td>0</td>\n",
       "    </tr>\n",
       "    <tr>\n",
       "      <th>9998</th>\n",
       "      <td>299.0</td>\n",
       "      <td>308.7</td>\n",
       "      <td>1408</td>\n",
       "      <td>25</td>\n",
       "      <td>0</td>\n",
       "      <td>0</td>\n",
       "      <td>0</td>\n",
       "      <td>0</td>\n",
       "      <td>0</td>\n",
       "      <td>0</td>\n",
       "    </tr>\n",
       "    <tr>\n",
       "      <th>9999</th>\n",
       "      <td>299.0</td>\n",
       "      <td>308.7</td>\n",
       "      <td>1500</td>\n",
       "      <td>30</td>\n",
       "      <td>0</td>\n",
       "      <td>0</td>\n",
       "      <td>0</td>\n",
       "      <td>0</td>\n",
       "      <td>0</td>\n",
       "      <td>0</td>\n",
       "    </tr>\n",
       "  </tbody>\n",
       "</table>\n",
       "<p>10000 rows × 10 columns</p>\n",
       "</div>"
      ],
      "text/plain": [
       "      Air temperature [K]  Process temperature [K]  Rotational speed [rpm]  \\\n",
       "0                   298.1                    308.6                    1551   \n",
       "1                   298.2                    308.7                    1408   \n",
       "2                   298.1                    308.5                    1498   \n",
       "3                   298.2                    308.6                    1433   \n",
       "4                   298.2                    308.7                    1408   \n",
       "...                   ...                      ...                     ...   \n",
       "9995                298.8                    308.4                    1604   \n",
       "9996                298.9                    308.4                    1632   \n",
       "9997                299.0                    308.6                    1645   \n",
       "9998                299.0                    308.7                    1408   \n",
       "9999                299.0                    308.7                    1500   \n",
       "\n",
       "      Tool wear [min]  Machine failure  TWF  HDF  PWF  OSF  RNF  \n",
       "0                   0                0    0    0    0    0    0  \n",
       "1                   3                0    0    0    0    0    0  \n",
       "2                   5                0    0    0    0    0    0  \n",
       "3                   7                0    0    0    0    0    0  \n",
       "4                   9                0    0    0    0    0    0  \n",
       "...               ...              ...  ...  ...  ...  ...  ...  \n",
       "9995               14                0    0    0    0    0    0  \n",
       "9996               17                0    0    0    0    0    0  \n",
       "9997               22                0    0    0    0    0    0  \n",
       "9998               25                0    0    0    0    0    0  \n",
       "9999               30                0    0    0    0    0    0  \n",
       "\n",
       "[10000 rows x 10 columns]"
      ]
     },
     "execution_count": 7,
     "metadata": {},
     "output_type": "execute_result"
    }
   ],
   "source": [
    "df"
   ]
  },
  {
   "cell_type": "markdown",
   "id": "11efc327",
   "metadata": {},
   "source": [
    "#### 전처리"
   ]
  },
  {
   "cell_type": "code",
   "execution_count": 8,
   "id": "7ee29c7d",
   "metadata": {},
   "outputs": [],
   "source": [
    "from sklearn.model_selection import train_test_split\n",
    "from sklearn.preprocessing import MinMaxScaler"
   ]
  },
  {
   "cell_type": "code",
   "execution_count": 9,
   "id": "acab5449",
   "metadata": {},
   "outputs": [
    {
     "data": {
      "text/plain": [
       "array([[0.30434783, 0.35802469, 0.22293364, ..., 0.        , 0.        ,\n",
       "        0.        ],\n",
       "       [0.31521739, 0.37037037, 0.13969732, ..., 0.        , 0.        ,\n",
       "        0.        ],\n",
       "       [0.30434783, 0.34567901, 0.19208382, ..., 0.        , 0.        ,\n",
       "        0.        ],\n",
       "       ...,\n",
       "       [0.40217391, 0.35802469, 0.27764843, ..., 0.        , 0.        ,\n",
       "        0.        ],\n",
       "       [0.40217391, 0.37037037, 0.13969732, ..., 0.        , 0.        ,\n",
       "        0.        ],\n",
       "       [0.40217391, 0.37037037, 0.19324796, ..., 0.        , 0.        ,\n",
       "        0.        ]])"
      ]
     },
     "execution_count": 9,
     "metadata": {},
     "output_type": "execute_result"
    }
   ],
   "source": [
    "scaler = MinMaxScaler()\n",
    "X_data_scaled = scaler.fit_transform(df[[\"Air temperature [K]\", \"Process temperature [K]\", \"Rotational speed [rpm]\", \"Tool wear [min]\",\"TWF\",\"HDF\",\"PWF\",\"OSF\",\"RNF\"]])\n",
    "X_data_scaled"
   ]
  },
  {
   "cell_type": "code",
   "execution_count": 10,
   "id": "50b84246",
   "metadata": {},
   "outputs": [
    {
     "name": "stdout",
     "output_type": "stream",
     "text": [
      "(9000, 9) (9000,)\n",
      "(1000, 9) (1000,)\n"
     ]
    }
   ],
   "source": [
    "X_train, X_test, y_train, y_test = train_test_split(X_data_scaled, df['Machine failure'], \n",
    "                                                    test_size=0.1, \n",
    "                                                    shuffle=True, \n",
    "                                                    random_state=11)\n",
    "print(X_train.shape, y_train.shape)\n",
    "print(X_test.shape, y_test.shape)"
   ]
  },
  {
   "cell_type": "markdown",
   "id": "bac1ecf3",
   "metadata": {},
   "source": [
    "### model만들기"
   ]
  },
  {
   "cell_type": "code",
   "execution_count": 11,
   "id": "e3e97f61",
   "metadata": {},
   "outputs": [],
   "source": [
    "from tensorflow.keras import Sequential\n",
    "from tensorflow.keras.layers import Dense"
   ]
  },
  {
   "cell_type": "code",
   "execution_count": 12,
   "id": "436269db",
   "metadata": {},
   "outputs": [
    {
     "name": "stdout",
     "output_type": "stream",
     "text": [
      "Model: \"sequential\"\n",
      "_________________________________________________________________\n",
      " Layer (type)                Output Shape              Param #   \n",
      "=================================================================\n",
      " dense (Dense)               (None, 128)               1280      \n",
      "                                                                 \n",
      " dense_1 (Dense)             (None, 64)                8256      \n",
      "                                                                 \n",
      " dense_2 (Dense)             (None, 32)                2080      \n",
      "                                                                 \n",
      " dense_3 (Dense)             (None, 16)                528       \n",
      "                                                                 \n",
      " dense_4 (Dense)             (None, 1)                 17        \n",
      "                                                                 \n",
      "=================================================================\n",
      "Total params: 12,161\n",
      "Trainable params: 12,161\n",
      "Non-trainable params: 0\n",
      "_________________________________________________________________\n"
     ]
    }
   ],
   "source": [
    "from tensorflow.keras import Sequential\n",
    "from tensorflow.keras.layers import Dense\n",
    "\n",
    "\n",
    "def build_model(num_input=1):\n",
    "    model = Sequential()##Layer 쌓을 수 있도록 객체를 생성 \n",
    "    model.add(Dense(128, activation='relu', input_dim=num_input))\n",
    "    model.add(Dense(64, activation='relu'))\n",
    "    model.add(Dense(32, activation='relu'))\n",
    "    model.add(Dense(16, activation='relu'))\n",
    "    model.add(Dense(1, activation='sigmoid'))\n",
    "\n",
    "    model.compile(optimizer='adam', loss='mse', metrics=['mae'])\n",
    "\n",
    "    return model\n",
    "\n",
    "model = build_model(num_input=9)\n",
    "model.summary()"
   ]
  },
  {
   "cell_type": "code",
   "execution_count": 13,
   "id": "c4dae0e3",
   "metadata": {},
   "outputs": [
    {
     "data": {
      "text/plain": [
       "6460    0\n",
       "5252    0\n",
       "3201    0\n",
       "5477    0\n",
       "3009    0\n",
       "       ..\n",
       "1293    0\n",
       "4023    0\n",
       "7259    0\n",
       "5200    0\n",
       "3775    0\n",
       "Name: Machine failure, Length: 9000, dtype: int64"
      ]
     },
     "execution_count": 13,
     "metadata": {},
     "output_type": "execute_result"
    }
   ],
   "source": [
    "y_train"
   ]
  },
  {
   "cell_type": "code",
   "execution_count": 14,
   "id": "b0f6092f",
   "metadata": {},
   "outputs": [
    {
     "name": "stdout",
     "output_type": "stream",
     "text": [
      "Epoch 1/100\n",
      "282/282 - 1s - loss: 0.0217 - mae: 0.0606 - 1s/epoch - 4ms/step\n",
      "Epoch 2/100\n",
      "282/282 - 1s - loss: 0.0010 - mae: 0.0041 - 509ms/epoch - 2ms/step\n",
      "Epoch 3/100\n",
      "282/282 - 1s - loss: 0.0010 - mae: 0.0024 - 502ms/epoch - 2ms/step\n",
      "Epoch 4/100\n",
      "282/282 - 1s - loss: 0.0010 - mae: 0.0019 - 537ms/epoch - 2ms/step\n",
      "Epoch 5/100\n",
      "282/282 - 1s - loss: 9.9995e-04 - mae: 0.0018 - 541ms/epoch - 2ms/step\n",
      "Epoch 6/100\n",
      "282/282 - 1s - loss: 9.9983e-04 - mae: 0.0017 - 530ms/epoch - 2ms/step\n",
      "Epoch 7/100\n",
      "282/282 - 1s - loss: 9.9976e-04 - mae: 0.0016 - 573ms/epoch - 2ms/step\n",
      "Epoch 8/100\n",
      "282/282 - 1s - loss: 9.9966e-04 - mae: 0.0016 - 538ms/epoch - 2ms/step\n",
      "Epoch 9/100\n",
      "282/282 - 1s - loss: 9.9960e-04 - mae: 0.0016 - 552ms/epoch - 2ms/step\n",
      "Epoch 10/100\n",
      "282/282 - 1s - loss: 9.9957e-04 - mae: 0.0017 - 525ms/epoch - 2ms/step\n",
      "Epoch 11/100\n",
      "282/282 - 1s - loss: 9.9959e-04 - mae: 0.0017 - 531ms/epoch - 2ms/step\n",
      "Epoch 12/100\n",
      "282/282 - 0s - loss: 9.9958e-04 - mae: 0.0017 - 443ms/epoch - 2ms/step\n",
      "Epoch 13/100\n",
      "282/282 - 0s - loss: 9.9956e-04 - mae: 0.0016 - 483ms/epoch - 2ms/step\n",
      "Epoch 14/100\n",
      "282/282 - 0s - loss: 9.9949e-04 - mae: 0.0016 - 457ms/epoch - 2ms/step\n",
      "Epoch 15/100\n",
      "282/282 - 0s - loss: 9.9954e-04 - mae: 0.0017 - 443ms/epoch - 2ms/step\n",
      "Epoch 16/100\n",
      "282/282 - 0s - loss: 9.9952e-04 - mae: 0.0015 - 413ms/epoch - 1ms/step\n",
      "Epoch 17/100\n",
      "282/282 - 0s - loss: 9.9955e-04 - mae: 0.0016 - 488ms/epoch - 2ms/step\n",
      "Epoch 18/100\n",
      "282/282 - 0s - loss: 9.9958e-04 - mae: 0.0015 - 495ms/epoch - 2ms/step\n",
      "Epoch 19/100\n",
      "282/282 - 0s - loss: 9.9960e-04 - mae: 0.0016 - 496ms/epoch - 2ms/step\n",
      "Epoch 20/100\n",
      "282/282 - 0s - loss: 9.9957e-04 - mae: 0.0016 - 418ms/epoch - 1ms/step\n",
      "Epoch 21/100\n",
      "282/282 - 0s - loss: 9.9962e-04 - mae: 0.0015 - 434ms/epoch - 2ms/step\n",
      "Epoch 22/100\n",
      "282/282 - 0s - loss: 9.9957e-04 - mae: 0.0015 - 477ms/epoch - 2ms/step\n",
      "Epoch 23/100\n",
      "282/282 - 0s - loss: 9.9968e-04 - mae: 0.0016 - 469ms/epoch - 2ms/step\n",
      "Epoch 24/100\n",
      "282/282 - 0s - loss: 9.9965e-04 - mae: 0.0014 - 368ms/epoch - 1ms/step\n",
      "Epoch 25/100\n",
      "282/282 - 0s - loss: 9.9978e-04 - mae: 0.0015 - 386ms/epoch - 1ms/step\n",
      "Epoch 26/100\n",
      "282/282 - 0s - loss: 9.9972e-04 - mae: 0.0013 - 389ms/epoch - 1ms/step\n",
      "Epoch 27/100\n",
      "282/282 - 0s - loss: 9.9972e-04 - mae: 0.0013 - 405ms/epoch - 1ms/step\n",
      "Epoch 28/100\n",
      "282/282 - 1s - loss: 9.9975e-04 - mae: 0.0014 - 529ms/epoch - 2ms/step\n",
      "Epoch 29/100\n",
      "282/282 - 1s - loss: 0.0010 - mae: 0.0014 - 548ms/epoch - 2ms/step\n",
      "Epoch 30/100\n",
      "282/282 - 0s - loss: 9.9999e-04 - mae: 0.0010 - 407ms/epoch - 1ms/step\n",
      "Epoch 31/100\n",
      "282/282 - 0s - loss: 9.9998e-04 - mae: 0.0011 - 434ms/epoch - 2ms/step\n",
      "Epoch 32/100\n",
      "282/282 - 0s - loss: 9.9996e-04 - mae: 0.0011 - 441ms/epoch - 2ms/step\n",
      "Epoch 33/100\n",
      "282/282 - 0s - loss: 9.9988e-04 - mae: 0.0011 - 445ms/epoch - 2ms/step\n",
      "Epoch 34/100\n",
      "282/282 - 0s - loss: 9.9969e-04 - mae: 0.0014 - 420ms/epoch - 1ms/step\n",
      "Epoch 35/100\n",
      "282/282 - 0s - loss: 0.0010 - mae: 0.0013 - 385ms/epoch - 1ms/step\n",
      "Epoch 36/100\n",
      "282/282 - 0s - loss: 9.9980e-04 - mae: 0.0013 - 351ms/epoch - 1ms/step\n",
      "Epoch 37/100\n",
      "282/282 - 0s - loss: 9.9969e-04 - mae: 0.0014 - 338ms/epoch - 1ms/step\n",
      "Epoch 38/100\n",
      "282/282 - 0s - loss: 9.9975e-04 - mae: 0.0014 - 348ms/epoch - 1ms/step\n",
      "Epoch 39/100\n",
      "282/282 - 0s - loss: 9.9977e-04 - mae: 0.0014 - 353ms/epoch - 1ms/step\n",
      "Epoch 40/100\n",
      "282/282 - 0s - loss: 9.9973e-04 - mae: 0.0014 - 350ms/epoch - 1ms/step\n",
      "Epoch 41/100\n",
      "282/282 - 0s - loss: 9.9985e-04 - mae: 0.0013 - 332ms/epoch - 1ms/step\n",
      "Epoch 42/100\n",
      "282/282 - 0s - loss: 9.9998e-04 - mae: 0.0010 - 355ms/epoch - 1ms/step\n",
      "Epoch 43/100\n",
      "282/282 - 0s - loss: 9.9995e-04 - mae: 0.0011 - 394ms/epoch - 1ms/step\n",
      "Epoch 44/100\n",
      "282/282 - 0s - loss: 9.9981e-04 - mae: 0.0013 - 357ms/epoch - 1ms/step\n",
      "Epoch 45/100\n",
      "282/282 - 0s - loss: 9.9981e-04 - mae: 0.0015 - 495ms/epoch - 2ms/step\n",
      "Epoch 46/100\n",
      "282/282 - 0s - loss: 0.0010 - mae: 0.0010 - 396ms/epoch - 1ms/step\n",
      "Epoch 47/100\n",
      "282/282 - 0s - loss: 0.0010 - mae: 0.0010 - 399ms/epoch - 1ms/step\n",
      "Epoch 48/100\n",
      "282/282 - 0s - loss: 1.0000e-03 - mae: 0.0010 - 466ms/epoch - 2ms/step\n",
      "Epoch 49/100\n",
      "282/282 - 0s - loss: 9.9999e-04 - mae: 0.0010 - 495ms/epoch - 2ms/step\n",
      "Epoch 50/100\n",
      "282/282 - 0s - loss: 9.9999e-04 - mae: 0.0010 - 376ms/epoch - 1ms/step\n",
      "Epoch 51/100\n",
      "282/282 - 0s - loss: 9.9998e-04 - mae: 0.0010 - 396ms/epoch - 1ms/step\n",
      "Epoch 52/100\n",
      "282/282 - 0s - loss: 9.9996e-04 - mae: 0.0010 - 493ms/epoch - 2ms/step\n",
      "Epoch 53/100\n",
      "282/282 - 0s - loss: 9.9979e-04 - mae: 0.0013 - 492ms/epoch - 2ms/step\n",
      "Epoch 54/100\n",
      "282/282 - 0s - loss: 9.9977e-04 - mae: 0.0014 - 470ms/epoch - 2ms/step\n",
      "Epoch 55/100\n",
      "282/282 - 0s - loss: 9.9976e-04 - mae: 0.0014 - 430ms/epoch - 2ms/step\n",
      "Epoch 56/100\n",
      "282/282 - 1s - loss: 9.9973e-04 - mae: 0.0014 - 508ms/epoch - 2ms/step\n",
      "Epoch 57/100\n",
      "282/282 - 1s - loss: 9.9965e-04 - mae: 0.0015 - 511ms/epoch - 2ms/step\n",
      "Epoch 58/100\n",
      "282/282 - 0s - loss: 9.9963e-04 - mae: 0.0015 - 466ms/epoch - 2ms/step\n",
      "Epoch 59/100\n",
      "282/282 - 0s - loss: 9.9996e-04 - mae: 0.0010 - 444ms/epoch - 2ms/step\n",
      "Epoch 60/100\n",
      "282/282 - 0s - loss: 9.9977e-04 - mae: 0.0013 - 481ms/epoch - 2ms/step\n",
      "Epoch 61/100\n",
      "282/282 - 0s - loss: 9.9974e-04 - mae: 0.0014 - 465ms/epoch - 2ms/step\n",
      "Epoch 62/100\n",
      "282/282 - 0s - loss: 9.9963e-04 - mae: 0.0015 - 460ms/epoch - 2ms/step\n",
      "Epoch 63/100\n",
      "282/282 - 0s - loss: 9.9971e-04 - mae: 0.0015 - 489ms/epoch - 2ms/step\n",
      "Epoch 64/100\n",
      "282/282 - 0s - loss: 9.9944e-04 - mae: 0.0014 - 443ms/epoch - 2ms/step\n",
      "Epoch 65/100\n",
      "282/282 - 0s - loss: 0.0010 - mae: 0.0012 - 477ms/epoch - 2ms/step\n",
      "Epoch 66/100\n",
      "282/282 - 1s - loss: 9.9999e-04 - mae: 0.0010 - 524ms/epoch - 2ms/step\n",
      "Epoch 67/100\n",
      "282/282 - 0s - loss: 9.9998e-04 - mae: 0.0010 - 469ms/epoch - 2ms/step\n",
      "Epoch 68/100\n",
      "282/282 - 0s - loss: 9.9997e-04 - mae: 0.0010 - 483ms/epoch - 2ms/step\n",
      "Epoch 69/100\n",
      "282/282 - 1s - loss: 9.9986e-04 - mae: 0.0011 - 526ms/epoch - 2ms/step\n",
      "Epoch 70/100\n",
      "282/282 - 0s - loss: 9.9981e-04 - mae: 0.0012 - 398ms/epoch - 1ms/step\n",
      "Epoch 71/100\n",
      "282/282 - 0s - loss: 9.9963e-04 - mae: 0.0012 - 491ms/epoch - 2ms/step\n",
      "Epoch 72/100\n",
      "282/282 - 0s - loss: 9.9979e-04 - mae: 0.0014 - 435ms/epoch - 2ms/step\n",
      "Epoch 73/100\n",
      "282/282 - 0s - loss: 9.9989e-04 - mae: 0.0011 - 401ms/epoch - 1ms/step\n",
      "Epoch 74/100\n",
      "282/282 - 0s - loss: 9.9944e-04 - mae: 0.0014 - 412ms/epoch - 1ms/step\n",
      "Epoch 75/100\n",
      "282/282 - 0s - loss: 9.9983e-04 - mae: 0.0015 - 476ms/epoch - 2ms/step\n",
      "Epoch 76/100\n",
      "282/282 - 0s - loss: 9.9961e-04 - mae: 0.0015 - 481ms/epoch - 2ms/step\n",
      "Epoch 77/100\n",
      "282/282 - 1s - loss: 9.9961e-04 - mae: 0.0014 - 527ms/epoch - 2ms/step\n",
      "Epoch 78/100\n",
      "282/282 - 0s - loss: 9.9970e-04 - mae: 0.0015 - 480ms/epoch - 2ms/step\n",
      "Epoch 79/100\n",
      "282/282 - 0s - loss: 9.9962e-04 - mae: 0.0014 - 491ms/epoch - 2ms/step\n",
      "Epoch 80/100\n",
      "282/282 - 0s - loss: 9.9900e-04 - mae: 0.0015 - 486ms/epoch - 2ms/step\n",
      "Epoch 81/100\n",
      "282/282 - 0s - loss: 9.9960e-04 - mae: 0.0014 - 489ms/epoch - 2ms/step\n",
      "Epoch 82/100\n",
      "282/282 - 0s - loss: 9.9952e-04 - mae: 0.0017 - 500ms/epoch - 2ms/step\n",
      "Epoch 83/100\n",
      "282/282 - 1s - loss: 9.9935e-04 - mae: 0.0016 - 500ms/epoch - 2ms/step\n",
      "Epoch 84/100\n",
      "282/282 - 1s - loss: 9.9972e-04 - mae: 0.0015 - 505ms/epoch - 2ms/step\n",
      "Epoch 85/100\n",
      "282/282 - 0s - loss: 9.9934e-04 - mae: 0.0016 - 451ms/epoch - 2ms/step\n",
      "Epoch 86/100\n",
      "282/282 - 0s - loss: 9.9952e-04 - mae: 0.0015 - 320ms/epoch - 1ms/step\n",
      "Epoch 87/100\n",
      "282/282 - 0s - loss: 9.9943e-04 - mae: 0.0017 - 320ms/epoch - 1ms/step\n",
      "Epoch 88/100\n",
      "282/282 - 0s - loss: 9.9945e-04 - mae: 0.0016 - 319ms/epoch - 1ms/step\n",
      "Epoch 89/100\n",
      "282/282 - 0s - loss: 9.9936e-04 - mae: 0.0015 - 306ms/epoch - 1ms/step\n",
      "Epoch 90/100\n",
      "282/282 - 0s - loss: 9.9970e-04 - mae: 0.0013 - 387ms/epoch - 1ms/step\n",
      "Epoch 91/100\n",
      "282/282 - 0s - loss: 9.9934e-04 - mae: 0.0015 - 466ms/epoch - 2ms/step\n",
      "Epoch 92/100\n",
      "282/282 - 0s - loss: 9.9967e-04 - mae: 0.0013 - 459ms/epoch - 2ms/step\n",
      "Epoch 93/100\n",
      "282/282 - 0s - loss: 9.9946e-04 - mae: 0.0016 - 346ms/epoch - 1ms/step\n",
      "Epoch 94/100\n",
      "282/282 - 1s - loss: 9.9951e-04 - mae: 0.0015 - 531ms/epoch - 2ms/step\n",
      "Epoch 95/100\n",
      "282/282 - 1s - loss: 9.9954e-04 - mae: 0.0016 - 553ms/epoch - 2ms/step\n",
      "Epoch 96/100\n",
      "282/282 - 1s - loss: 9.9950e-04 - mae: 0.0015 - 543ms/epoch - 2ms/step\n",
      "Epoch 97/100\n",
      "282/282 - 0s - loss: 9.9930e-04 - mae: 0.0017 - 460ms/epoch - 2ms/step\n",
      "Epoch 98/100\n",
      "282/282 - 0s - loss: 9.9946e-04 - mae: 0.0016 - 484ms/epoch - 2ms/step\n",
      "Epoch 99/100\n"
     ]
    },
    {
     "name": "stdout",
     "output_type": "stream",
     "text": [
      "282/282 - 0s - loss: 9.9951e-04 - mae: 0.0015 - 492ms/epoch - 2ms/step\n",
      "Epoch 100/100\n",
      "282/282 - 0s - loss: 9.9932e-04 - mae: 0.0016 - 474ms/epoch - 2ms/step\n"
     ]
    },
    {
     "data": {
      "text/plain": [
       "<keras.callbacks.History at 0x284b5939be0>"
      ]
     },
     "execution_count": 14,
     "metadata": {},
     "output_type": "execute_result"
    }
   ],
   "source": [
    "history = model.fit(X_train, y_train, epochs=100, batch_size=32, verbose=2)\n",
    "history #  epochs: 훈련 데이터셋에 포함된 모든 데이터들이 한 번씩 모델을 통과한 횟수로, 모든 학습 데이터셋을 학습하는 횟수를 의미\n",
    "# verbose : 자세히 보여줘라"
   ]
  },
  {
   "cell_type": "code",
   "execution_count": 15,
   "id": "1b08ac6a",
   "metadata": {},
   "outputs": [
    {
     "data": {
      "text/plain": [
       "[0.060563769191503525, 0.00408934848383069, 0.0024159469176083803]"
      ]
     },
     "execution_count": 15,
     "metadata": {},
     "output_type": "execute_result"
    }
   ],
   "source": [
    "history.history['mae'][:3]"
   ]
  },
  {
   "cell_type": "code",
   "execution_count": 16,
   "id": "c4fe099a",
   "metadata": {},
   "outputs": [
    {
     "data": {
      "text/plain": [
       "[0.021651381626725197, 0.0010311828227713704, 0.0010028152028098702]"
      ]
     },
     "execution_count": 16,
     "metadata": {},
     "output_type": "execute_result"
    }
   ],
   "source": [
    "history.history['loss'][:3]"
   ]
  },
  {
   "cell_type": "code",
   "execution_count": 17,
   "id": "5a0321c1",
   "metadata": {},
   "outputs": [
    {
     "name": "stdout",
     "output_type": "stream",
     "text": [
      "32/32 [==============================] - 0s 2ms/step - loss: 2.7341e-07 - mae: 4.6145e-04\n"
     ]
    },
    {
     "data": {
      "text/plain": [
       "[2.734107056312496e-07, 0.00046145374653860927]"
      ]
     },
     "execution_count": 17,
     "metadata": {},
     "output_type": "execute_result"
    }
   ],
   "source": [
    "eva_test=model.evaluate(X_test, y_test)\n",
    "eva_test"
   ]
  },
  {
   "cell_type": "code",
   "execution_count": 18,
   "id": "cb94f243",
   "metadata": {},
   "outputs": [],
   "source": [
    "pred_test = model.predict(X_test)"
   ]
  },
  {
   "cell_type": "code",
   "execution_count": 19,
   "id": "3eff1832",
   "metadata": {},
   "outputs": [
    {
     "ename": "ValueError",
     "evalue": "x and y must have same first dimension, but have shapes (5,) and (1000,)",
     "output_type": "error",
     "traceback": [
      "\u001b[1;31m---------------------------------------------------------------------------\u001b[0m",
      "\u001b[1;31mValueError\u001b[0m                                Traceback (most recent call last)",
      "Input \u001b[1;32mIn [19]\u001b[0m, in \u001b[0;36m<cell line: 3>\u001b[1;34m()\u001b[0m\n\u001b[0;32m      1\u001b[0m \u001b[38;5;28;01mimport\u001b[39;00m \u001b[38;5;21;01mmatplotlib\u001b[39;00m\u001b[38;5;21;01m.\u001b[39;00m\u001b[38;5;21;01mpyplot\u001b[39;00m \u001b[38;5;28;01mas\u001b[39;00m \u001b[38;5;21;01mplt\u001b[39;00m\n\u001b[0;32m      2\u001b[0m X\u001b[38;5;241m=\u001b[39m[\u001b[38;5;241m46\u001b[39m,\u001b[38;5;241m47\u001b[39m,\u001b[38;5;241m48\u001b[39m,\u001b[38;5;241m49\u001b[39m,\u001b[38;5;241m50\u001b[39m]\n\u001b[1;32m----> 3\u001b[0m \u001b[43mplt\u001b[49m\u001b[38;5;241;43m.\u001b[39;49m\u001b[43mplot\u001b[49m\u001b[43m(\u001b[49m\u001b[43mX\u001b[49m\u001b[43m,\u001b[49m\u001b[43m \u001b[49m\u001b[43my_test\u001b[49m\u001b[43m,\u001b[49m\u001b[43mmarker\u001b[49m\u001b[43m \u001b[49m\u001b[38;5;241;43m=\u001b[39;49m\u001b[43m \u001b[49m\u001b[38;5;124;43m'\u001b[39;49m\u001b[38;5;124;43mo\u001b[39;49m\u001b[38;5;124;43m'\u001b[39;49m\u001b[43m,\u001b[49m\u001b[43mlabel\u001b[49m\u001b[38;5;241;43m=\u001b[39;49m\u001b[38;5;124;43m'\u001b[39;49m\u001b[38;5;124;43mrealY\u001b[39;49m\u001b[38;5;124;43m'\u001b[39;49m\u001b[43m)\u001b[49m\n\u001b[0;32m      5\u001b[0m plt\u001b[38;5;241m.\u001b[39mplot(X, pred_test,marker \u001b[38;5;241m=\u001b[39m \u001b[38;5;124m'\u001b[39m\u001b[38;5;124mo\u001b[39m\u001b[38;5;124m'\u001b[39m,label\u001b[38;5;241m=\u001b[39m\u001b[38;5;124m'\u001b[39m\u001b[38;5;124mpredict\u001b[39m\u001b[38;5;124m'\u001b[39m)\n\u001b[0;32m      7\u001b[0m plt\u001b[38;5;241m.\u001b[39mlegend()\n",
      "File \u001b[1;32m~\\anaconda3\\lib\\site-packages\\matplotlib\\pyplot.py:2757\u001b[0m, in \u001b[0;36mplot\u001b[1;34m(scalex, scaley, data, *args, **kwargs)\u001b[0m\n\u001b[0;32m   2755\u001b[0m \u001b[38;5;129m@_copy_docstring_and_deprecators\u001b[39m(Axes\u001b[38;5;241m.\u001b[39mplot)\n\u001b[0;32m   2756\u001b[0m \u001b[38;5;28;01mdef\u001b[39;00m \u001b[38;5;21mplot\u001b[39m(\u001b[38;5;241m*\u001b[39margs, scalex\u001b[38;5;241m=\u001b[39m\u001b[38;5;28;01mTrue\u001b[39;00m, scaley\u001b[38;5;241m=\u001b[39m\u001b[38;5;28;01mTrue\u001b[39;00m, data\u001b[38;5;241m=\u001b[39m\u001b[38;5;28;01mNone\u001b[39;00m, \u001b[38;5;241m*\u001b[39m\u001b[38;5;241m*\u001b[39mkwargs):\n\u001b[1;32m-> 2757\u001b[0m     \u001b[38;5;28;01mreturn\u001b[39;00m gca()\u001b[38;5;241m.\u001b[39mplot(\n\u001b[0;32m   2758\u001b[0m         \u001b[38;5;241m*\u001b[39margs, scalex\u001b[38;5;241m=\u001b[39mscalex, scaley\u001b[38;5;241m=\u001b[39mscaley,\n\u001b[0;32m   2759\u001b[0m         \u001b[38;5;241m*\u001b[39m\u001b[38;5;241m*\u001b[39m({\u001b[38;5;124m\"\u001b[39m\u001b[38;5;124mdata\u001b[39m\u001b[38;5;124m\"\u001b[39m: data} \u001b[38;5;28;01mif\u001b[39;00m data \u001b[38;5;129;01mis\u001b[39;00m \u001b[38;5;129;01mnot\u001b[39;00m \u001b[38;5;28;01mNone\u001b[39;00m \u001b[38;5;28;01melse\u001b[39;00m {}), \u001b[38;5;241m*\u001b[39m\u001b[38;5;241m*\u001b[39mkwargs)\n",
      "File \u001b[1;32m~\\anaconda3\\lib\\site-packages\\matplotlib\\axes\\_axes.py:1632\u001b[0m, in \u001b[0;36mAxes.plot\u001b[1;34m(self, scalex, scaley, data, *args, **kwargs)\u001b[0m\n\u001b[0;32m   1390\u001b[0m \u001b[38;5;124;03m\"\"\"\u001b[39;00m\n\u001b[0;32m   1391\u001b[0m \u001b[38;5;124;03mPlot y versus x as lines and/or markers.\u001b[39;00m\n\u001b[0;32m   1392\u001b[0m \n\u001b[1;32m   (...)\u001b[0m\n\u001b[0;32m   1629\u001b[0m \u001b[38;5;124;03m(``'green'``) or hex strings (``'#008000'``).\u001b[39;00m\n\u001b[0;32m   1630\u001b[0m \u001b[38;5;124;03m\"\"\"\u001b[39;00m\n\u001b[0;32m   1631\u001b[0m kwargs \u001b[38;5;241m=\u001b[39m cbook\u001b[38;5;241m.\u001b[39mnormalize_kwargs(kwargs, mlines\u001b[38;5;241m.\u001b[39mLine2D)\n\u001b[1;32m-> 1632\u001b[0m lines \u001b[38;5;241m=\u001b[39m [\u001b[38;5;241m*\u001b[39m\u001b[38;5;28mself\u001b[39m\u001b[38;5;241m.\u001b[39m_get_lines(\u001b[38;5;241m*\u001b[39margs, data\u001b[38;5;241m=\u001b[39mdata, \u001b[38;5;241m*\u001b[39m\u001b[38;5;241m*\u001b[39mkwargs)]\n\u001b[0;32m   1633\u001b[0m \u001b[38;5;28;01mfor\u001b[39;00m line \u001b[38;5;129;01min\u001b[39;00m lines:\n\u001b[0;32m   1634\u001b[0m     \u001b[38;5;28mself\u001b[39m\u001b[38;5;241m.\u001b[39madd_line(line)\n",
      "File \u001b[1;32m~\\anaconda3\\lib\\site-packages\\matplotlib\\axes\\_base.py:312\u001b[0m, in \u001b[0;36m_process_plot_var_args.__call__\u001b[1;34m(self, data, *args, **kwargs)\u001b[0m\n\u001b[0;32m    310\u001b[0m     this \u001b[38;5;241m+\u001b[39m\u001b[38;5;241m=\u001b[39m args[\u001b[38;5;241m0\u001b[39m],\n\u001b[0;32m    311\u001b[0m     args \u001b[38;5;241m=\u001b[39m args[\u001b[38;5;241m1\u001b[39m:]\n\u001b[1;32m--> 312\u001b[0m \u001b[38;5;28;01myield from\u001b[39;00m \u001b[38;5;28;43mself\u001b[39;49m\u001b[38;5;241;43m.\u001b[39;49m\u001b[43m_plot_args\u001b[49m\u001b[43m(\u001b[49m\u001b[43mthis\u001b[49m\u001b[43m,\u001b[49m\u001b[43m \u001b[49m\u001b[43mkwargs\u001b[49m\u001b[43m)\u001b[49m\n",
      "File \u001b[1;32m~\\anaconda3\\lib\\site-packages\\matplotlib\\axes\\_base.py:498\u001b[0m, in \u001b[0;36m_process_plot_var_args._plot_args\u001b[1;34m(self, tup, kwargs, return_kwargs)\u001b[0m\n\u001b[0;32m    495\u001b[0m     \u001b[38;5;28mself\u001b[39m\u001b[38;5;241m.\u001b[39maxes\u001b[38;5;241m.\u001b[39myaxis\u001b[38;5;241m.\u001b[39mupdate_units(y)\n\u001b[0;32m    497\u001b[0m \u001b[38;5;28;01mif\u001b[39;00m x\u001b[38;5;241m.\u001b[39mshape[\u001b[38;5;241m0\u001b[39m] \u001b[38;5;241m!=\u001b[39m y\u001b[38;5;241m.\u001b[39mshape[\u001b[38;5;241m0\u001b[39m]:\n\u001b[1;32m--> 498\u001b[0m     \u001b[38;5;28;01mraise\u001b[39;00m \u001b[38;5;167;01mValueError\u001b[39;00m(\u001b[38;5;124mf\u001b[39m\u001b[38;5;124m\"\u001b[39m\u001b[38;5;124mx and y must have same first dimension, but \u001b[39m\u001b[38;5;124m\"\u001b[39m\n\u001b[0;32m    499\u001b[0m                      \u001b[38;5;124mf\u001b[39m\u001b[38;5;124m\"\u001b[39m\u001b[38;5;124mhave shapes \u001b[39m\u001b[38;5;132;01m{\u001b[39;00mx\u001b[38;5;241m.\u001b[39mshape\u001b[38;5;132;01m}\u001b[39;00m\u001b[38;5;124m and \u001b[39m\u001b[38;5;132;01m{\u001b[39;00my\u001b[38;5;241m.\u001b[39mshape\u001b[38;5;132;01m}\u001b[39;00m\u001b[38;5;124m\"\u001b[39m)\n\u001b[0;32m    500\u001b[0m \u001b[38;5;28;01mif\u001b[39;00m x\u001b[38;5;241m.\u001b[39mndim \u001b[38;5;241m>\u001b[39m \u001b[38;5;241m2\u001b[39m \u001b[38;5;129;01mor\u001b[39;00m y\u001b[38;5;241m.\u001b[39mndim \u001b[38;5;241m>\u001b[39m \u001b[38;5;241m2\u001b[39m:\n\u001b[0;32m    501\u001b[0m     \u001b[38;5;28;01mraise\u001b[39;00m \u001b[38;5;167;01mValueError\u001b[39;00m(\u001b[38;5;124mf\u001b[39m\u001b[38;5;124m\"\u001b[39m\u001b[38;5;124mx and y can be no greater than 2D, but have \u001b[39m\u001b[38;5;124m\"\u001b[39m\n\u001b[0;32m    502\u001b[0m                      \u001b[38;5;124mf\u001b[39m\u001b[38;5;124m\"\u001b[39m\u001b[38;5;124mshapes \u001b[39m\u001b[38;5;132;01m{\u001b[39;00mx\u001b[38;5;241m.\u001b[39mshape\u001b[38;5;132;01m}\u001b[39;00m\u001b[38;5;124m and \u001b[39m\u001b[38;5;132;01m{\u001b[39;00my\u001b[38;5;241m.\u001b[39mshape\u001b[38;5;132;01m}\u001b[39;00m\u001b[38;5;124m\"\u001b[39m)\n",
      "\u001b[1;31mValueError\u001b[0m: x and y must have same first dimension, but have shapes (5,) and (1000,)"
     ]
    },
    {
     "data": {
      "image/png": "[encoded data removed]",
      "text/plain": [
       "<Figure size 432x288 with 1 Axes>"
      ]
     },
     "metadata": {
      "needs_background": "light"
     },
     "output_type": "display_data"
    }
   ],
   "source": [
    "import matplotlib.pyplot as plt\n",
    "X=[46,47,48,49,50]\n",
    "plt.plot(X, y_test,marker = 'o',label='realY')\n",
    "\n",
    "plt.plot(X, pred_test,marker = 'o',label='predict')\n",
    "\n",
    "plt.legend()\n",
    "\n",
    "plt.show()"
   ]
  },
  {
   "cell_type": "code",
   "execution_count": null,
   "id": "aa26cab2",
   "metadata": {},
   "outputs": [],
   "source": [
    "pred_test[:5]"
   ]
  },
  {
   "cell_type": "code",
   "execution_count": null,
   "id": "796a968b",
   "metadata": {},
   "outputs": [],
   "source": [
    "y_test[:5]"
   ]
  },
  {
   "cell_type": "code",
   "execution_count": null,
   "id": "c964f5e9",
   "metadata": {},
   "outputs": [],
   "source": [
    "from sklearn.metrics import r2_score\n",
    "R2 = r2_score(y_test, pred_test, multioutput='variance_weighted')\n",
    "R2"
   ]
  },
  {
   "cell_type": "code",
   "execution_count": 23,
   "id": "53dc7d6a",
   "metadata": {},
   "outputs": [
    {
     "data": {
      "image/png": "[encoded data removed]",
      "text/plain": [
       "<Figure size 432x288 with 1 Axes>"
      ]
     },
     "metadata": {
      "needs_background": "light"
     },
     "output_type": "display_data"
    }
   ],
   "source": [
    "X=[0,1,2]\n",
    "\n",
    "plt.plot(history.history['loss'],marker = 'o',label='predict')\n",
    "\n",
    "plt.legend()\n",
    "\n",
    "plt.show()"
   ]
  },
  {
   "cell_type": "code",
   "execution_count": 24,
   "id": "c69c6ff5",
   "metadata": {},
   "outputs": [
    {
     "data": {
      "text/plain": [
       "[<matplotlib.lines.Line2D at 0x2eb09690dc0>]"
      ]
     },
     "execution_count": 24,
     "metadata": {},
     "output_type": "execute_result"
    },
    {
     "data": {
      "image/png": "[encoded data removed]",
      "text/plain": [
       "<Figure size 432x288 with 1 Axes>"
      ]
     },
     "metadata": {
      "needs_background": "light"
     },
     "output_type": "display_data"
    }
   ],
   "source": [
    "plt.plot(history.history['mae'],marker = 'o',label='predict')"
   ]
  },
  {
   "cell_type": "code",
   "execution_count": null,
   "id": "dd074b0a",
   "metadata": {},
   "outputs": [],
   "source": []
  },
  {
   "cell_type": "code",
   "execution_count": null,
   "id": "a30f5d3f",
   "metadata": {},
   "outputs": [],
   "source": []
  }
 ],
 "metadata": {
  "kernelspec": {
   "display_name": "Python 3 (ipykernel)",
   "language": "python",
   "name": "python3"
  },
  "language_info": {
   "codemirror_mode": {
    "name": "ipython",
    "version": 3
   },
   "file_extension": ".py",
   "mimetype": "text/x-python",
   "name": "python",
   "nbconvert_exporter": "python",
   "pygments_lexer": "ipython3",
   "version": "3.9.12"
  }
 },
 "nbformat": 4,
 "nbformat_minor": 5
}
