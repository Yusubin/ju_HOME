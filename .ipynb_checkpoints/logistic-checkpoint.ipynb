{
 "cells": [
  {
   "cell_type": "code",
   "execution_count": 2,
   "id": "830a73a2",
   "metadata": {},
   "outputs": [],
   "source": [
    "import tensorflow.compat.v1 as tf\n",
    "\n",
    "import numpy as np\n",
    "import matplotlib.pyplot as plt\n",
    "%matplotlib inline\n",
    "tf.disable_v2_behavior()\n",
    "tf.set_random_seed(777) "
   ]
  },
  {
   "cell_type": "code",
   "execution_count": 3,
   "id": "c0c59799",
   "metadata": {},
   "outputs": [
    {
     "data": {
      "image/png": "[encoded data removed]",
      "text/plain": [
       "<Figure size 432x288 with 1 Axes>"
      ]
     },
     "metadata": {
      "needs_background": "light"
     },
     "output_type": "display_data"
    }
   ],
   "source": [
    "x_data = [[1, 2], #[x1,x2] ...multi input이 두개인\n",
    "          [2, 3],\n",
    "          [3, 1],\n",
    "          [4, 3],\n",
    "          [5, 3],\n",
    "          [6, 2]]\n",
    "y_data = [[0],\n",
    "          [0],\n",
    "          [0], #실패\n",
    "          [1],\n",
    "          [1],\n",
    "          [1]] #성공\n",
    "\n",
    "x1 = [x[0] for x in x_data]\n",
    "x2 = [x[1] for x in x_data]\n",
    "\n",
    "colors = [int(y[0] % 3) for y in y_data]\n",
    "plt.scatter(x1,x2, c=colors)\n",
    "\n",
    "plt.xlabel(\"x1\")\n",
    "plt.ylabel(\"x2\")\n",
    "plt.show()"
   ]
  },
  {
   "cell_type": "markdown",
   "id": "597a1b5c",
   "metadata": {},
   "source": [
    "Logistic Classification 모델"
   ]
  },
  {
   "cell_type": "code",
   "execution_count": 4,
   "id": "66008091",
   "metadata": {},
   "outputs": [],
   "source": [
    "X = tf.placeholder(tf.float32, shape=[None, 2])#X,Y는 실제 학습에 쓰일 Data \n",
    "Y = tf.placeholder(tf.float32, shape=[None, 1])\n",
    "\n",
    "W = tf.Variable(tf.zeros([2,1]), name='weight') #W와 b은 학습을 통해 생성되는 모델에 쓰이는 Wegith와 Bias초기값\n",
    "b = tf.Variable(tf.zeros([1]), name='bias')"
   ]
  },
  {
   "cell_type": "markdown",
   "id": "2fc13b65",
   "metadata": {},
   "source": [
    "시그모이드 함수 정의"
   ]
  },
  {
   "cell_type": "code",
   "execution_count": 5,
   "id": "50371728",
   "metadata": {},
   "outputs": [
    {
     "name": "stdout",
     "output_type": "stream",
     "text": [
      "WARNING:tensorflow:From C:\\Users\\yusub\\AppData\\Local\\Temp\\ipykernel_14624\\3561644833.py:1: div (from tensorflow.python.ops.math_ops) is deprecated and will be removed in a future version.\n",
      "Instructions for updating:\n",
      "Deprecated in favor of operator or tf.math.divide.\n"
     ]
    }
   ],
   "source": [
    "hypothesis  = tf.div(1., 1. + tf.exp(tf.matmul(X, W) + b))"
   ]
  },
  {
   "cell_type": "markdown",
   "id": "23a78f8e",
   "metadata": {},
   "source": [
    "cost함수 정의"
   ]
  },
  {
   "cell_type": "code",
   "execution_count": 6,
   "id": "bb6b21fe",
   "metadata": {},
   "outputs": [],
   "source": [
    "cost = -tf.reduce_mean(Y * tf.log(hypothesis) + (1 - Y) *\n",
    "                       tf.log(1 - hypothesis))"
   ]
  },
  {
   "cell_type": "code",
   "execution_count": 7,
   "id": "be34e9b2",
   "metadata": {},
   "outputs": [],
   "source": [
    "train = tf.train.GradientDescentOptimizer(learning_rate=0.01).minimize(cost)\n",
    "#위에서 구한 cost함수를 바탕으로 경사하강법을 진행해서 작은 오차를 찾음"
   ]
  },
  {
   "cell_type": "code",
   "execution_count": 8,
   "id": "1ae11952",
   "metadata": {},
   "outputs": [],
   "source": [
    "predicted = tf.cast(hypothesis > 0.5, dtype=tf.float32) #예측"
   ]
  },
  {
   "cell_type": "code",
   "execution_count": 9,
   "id": "9dc5c811",
   "metadata": {},
   "outputs": [],
   "source": [
    "accuracy = tf.reduce_mean(tf.cast(tf.equal(predicted, Y), dtype=tf.int32)) #정확도 측정\n",
    "accuracy "
   ]
  },
  {
   "cell_type": "code",
   "execution_count": 10,
   "id": "f1b2b4b5",
   "metadata": {},
   "outputs": [
    {
     "name": "stdout",
     "output_type": "stream",
     "text": [
      "0 0.6931472\n",
      "1000 0.4144899\n",
      "2000 0.34960732\n",
      "3000 0.30138877\n",
      "4000 0.26361898\n",
      "5000 0.23360117\n",
      "6000 0.20939068\n",
      "7000 0.1895677\n",
      "8000 0.17310148\n",
      "9000 0.15924037\n",
      "10000 0.1474307\n",
      "\n",
      "Hypothesis:  [[0.02987642]\n",
      " [0.1576593 ]\n",
      " [0.30070737]\n",
      " [0.78328896]\n",
      " [0.9407705 ]\n",
      " [0.98057085]] \n",
      "Correct (Y):  [[0.]\n",
      " [0.]\n",
      " [0.]\n",
      " [1.]\n",
      " [1.]\n",
      " [1.]] \n",
      "Accuracy:  1\n",
      "[5,2] :  [[1.]]\n",
      "[2,2] :  [[0.]]\n"
     ]
    }
   ],
   "source": [
    "test_x1 = [[5,2]] \n",
    "test_x2 = [[2,2]] \n",
    "\n",
    "with tf.Session() as sess:\n",
    "    sess.run(tf.global_variables_initializer())\n",
    "    for step in range(10001):\n",
    "        cost_val, _ = sess.run([cost, train], feed_dict={X: x_data, Y: y_data})\n",
    "        if step % 1000 == 0:\n",
    "            print(step, cost_val)\n",
    "\n",
    "    # Accuracy report\n",
    "    h, c, a = sess.run([hypothesis, predicted, accuracy],\n",
    "                       feed_dict={X: x_data, Y: y_data})\n",
    "    print(\"\\nHypothesis: \", h, \"\\nCorrect (Y): \", c, \"\\nAccuracy: \", a)\n",
    "    print(\"[5,2] : \",   sess.run(predicted,feed_dict={X:test_x1}))\n",
    "    print(\"[2,2] : \",   sess.run(predicted,feed_dict={X:test_x2}))"
   ]
  },
  {
   "cell_type": "code",
   "execution_count": null,
   "id": "8c449dc6",
   "metadata": {},
   "outputs": [],
   "source": []
  }
 ],
 "metadata": {
  "kernelspec": {
   "display_name": "Python 3 (ipykernel)",
   "language": "python",
   "name": "python3"
  },
  "language_info": {
   "codemirror_mode": {
    "name": "ipython",
    "version": 3
   },
   "file_extension": ".py",
   "mimetype": "text/x-python",
   "name": "python",
   "nbconvert_exporter": "python",
   "pygments_lexer": "ipython3",
   "version": "3.9.12"
  }
 },
 "nbformat": 4,
 "nbformat_minor": 5
}
