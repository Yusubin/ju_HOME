{
 "cells": [
  {
   "cell_type": "code",
   "execution_count": 1,
   "id": "c64d6a8f",
   "metadata": {},
   "outputs": [
    {
     "name": "stdout",
     "output_type": "stream",
     "text": [
      "WARNING:tensorflow:From C:\\Users\\yusub\\anaconda3\\lib\\site-packages\\tensorflow\\python\\compat\\v2_compat.py:111: disable_resource_variables (from tensorflow.python.ops.variable_scope) is deprecated and will be removed in a future version.\n",
      "Instructions for updating:\n",
      "non-resource variables are not supported in the long term\n"
     ]
    }
   ],
   "source": [
    "import tensorflow.compat.v1 as tf\n",
    "tf.disable_v2_behavior()\n",
    "tf.set_random_seed(777) "
   ]
  },
  {
   "cell_type": "markdown",
   "id": "c687efc4",
   "metadata": {},
   "source": [
    "### H(x)=Wx+b"
   ]
  },
  {
   "cell_type": "code",
   "execution_count": 2,
   "id": "5565b396",
   "metadata": {},
   "outputs": [],
   "source": [
    "#임의로 주어진 데이터\n",
    "x_train = [1, 2, 3]\n",
    "y_train = [1, 2, 3]"
   ]
  },
  {
   "cell_type": "code",
   "execution_count": 3,
   "id": "80dedbbc",
   "metadata": {},
   "outputs": [],
   "source": [
    "W = tf.Variable(tf.random_normal([1]), name='weight') #랜덤한 값을 주기위함, 가중치\n",
    "X = tf.placeholder(tf.float32, shape=[None])\n",
    "Y = tf.placeholder(tf.float32, shape=[None])"
   ]
  },
  {
   "cell_type": "code",
   "execution_count": 4,
   "id": "e5df016f",
   "metadata": {},
   "outputs": [],
   "source": [
    "hypothesis =X* W #노드"
   ]
  },
  {
   "cell_type": "markdown",
   "id": "afc5df1b",
   "metadata": {},
   "source": [
    "비용함수"
   ]
  },
  {
   "cell_type": "code",
   "execution_count": 5,
   "id": "b632a7ef",
   "metadata": {},
   "outputs": [],
   "source": [
    "cost = tf.reduce_mean(tf.square(hypothesis -Y))\n",
    "#square >제곱\n",
    "#reduce_mean>평균내주는 값. "
   ]
  },
  {
   "cell_type": "code",
   "execution_count": 6,
   "id": "ba19d972",
   "metadata": {},
   "outputs": [],
   "source": [
    "# optimizer = tf.train.GradientDescentOptimizer(learning_rate=0.01) \n",
    "# train = (cost)\n",
    "#가장 작은 비용을 찾기 위한 경사하강법\n",
    "learning_rate=0.1#가장 작은 비용을 찾기 위한 경사하강법\n",
    "gradient=tf.reduce_mean((W*X-Y)*X) ##미분\n",
    "descent=W-learning_rate*gradient\n",
    "update=W.assign(descent)"
   ]
  },
  {
   "cell_type": "code",
   "execution_count": 7,
   "id": "404cf16d",
   "metadata": {},
   "outputs": [],
   "source": [
    "sess = tf.Session() #노드를 실행시킨다. \n",
    "sess.run(tf.global_variables_initializer())"
   ]
  },
  {
   "cell_type": "code",
   "execution_count": 8,
   "id": "5b68f139",
   "metadata": {},
   "outputs": [
    {
     "name": "stdout",
     "output_type": "stream",
     "text": [
      "0 0.22753704 [0.77918804]\n",
      "1 0.06472163 [0.8822336]\n",
      "2 0.018409716 [0.93719125]\n",
      "3 0.005236534 [0.966502]\n",
      "4 0.0014895027 [0.9821344]\n",
      "5 0.000423682 [0.99047166]\n",
      "6 0.00012051514 [0.9949182]\n",
      "7 3.4279296e-05 [0.9972897]\n",
      "8 9.750313e-06 [0.9985545]\n",
      "9 2.7733452e-06 [0.9992291]\n",
      "10 7.889824e-07 [0.99958885]\n",
      "11 2.243758e-07 [0.9997807]\n",
      "12 6.384909e-08 [0.99988306]\n",
      "13 1.8124851e-08 [0.99993765]\n",
      "14 5.154282e-09 [0.99996674]\n",
      "15 1.4765504e-09 [0.99998224]\n",
      "16 4.1801348e-10 [0.9999905]\n",
      "17 1.2039081e-10 [0.99999493]\n",
      "18 3.389407e-11 [0.9999973]\n",
      "19 9.549694e-12 [0.99999857]\n",
      "20 2.8954616e-12 [0.9999992]\n"
     ]
    }
   ],
   "source": [
    "for step in range(21):\n",
    "    sess.run(update,  feed_dict={X:x_train, Y:y_train})\n",
    "#     if step % 200 == 0:\n",
    "    print(step, sess.run(cost, feed_dict={X:x_train, Y:y_train}), sess.run(W)) # 단계, 오차, 가중치, 바이어스"
   ]
  },
  {
   "cell_type": "code",
   "execution_count": null,
   "id": "c2b0d88a",
   "metadata": {},
   "outputs": [],
   "source": []
  },
  {
   "cell_type": "code",
   "execution_count": null,
   "id": "af75c1c1",
   "metadata": {},
   "outputs": [],
   "source": []
  }
 ],
 "metadata": {
  "kernelspec": {
   "display_name": "Python 3 (ipykernel)",
   "language": "python",
   "name": "python3"
  },
  "language_info": {
   "codemirror_mode": {
    "name": "ipython",
    "version": 3
   },
   "file_extension": ".py",
   "mimetype": "text/x-python",
   "name": "python",
   "nbconvert_exporter": "python",
   "pygments_lexer": "ipython3",
   "version": "3.9.12"
  }
 },
 "nbformat": 4,
 "nbformat_minor": 5
}
