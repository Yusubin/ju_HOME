{
 "cells": [
  {
   "cell_type": "code",
   "execution_count": 1,
   "metadata": {
    "id": "1VAiRWCq2BdG"
   },
   "outputs": [],
   "source": [
    "import pandas as pd\n",
    "import numpy as np\n",
    "\n",
    "# 주요 라이브러리 import\n",
    "from sklearn import datasets\n",
    "from sklearn.tree import DecisionTreeClassifier\n",
    "import warnings\n",
    "warnings.filterwarnings(action='ignore')\n",
    "import time\n",
    "from IPython.display import Image\n",
    "from sklearn.datasets import fetch_openml\n",
    "import sklearn.datasets as data\n",
    "from sklearn.model_selection import train_test_split\n",
    "from sklearn.metrics import accuracy_score\n",
    "import numpy as np\n",
    "import pandas as pd\n",
    "import matplotlib.pyplot as plt\n",
    "import seaborn as sns\n",
    "%matplotlib inline\n",
    "from sklearn.preprocessing import LabelEncoder#라벨인코더 임포트\n",
    "from sklearn.model_selection import KFold\n",
    "\n",
    "from sklearn.tree import DecisionTreeClassifier\n",
    "from sklearn.ensemble import RandomForestClassifier\n",
    "from sklearn.linear_model import LogisticRegression\n",
    "from sklearn.svm import SVC\n",
    "from sklearn.metrics import accuracy_score\n",
    "\n",
    "from pandas.plotting import parallel_coordinates#코디네이츠 그래프 그릴 때 필요한 라이브러리\n",
    "from sklearn.model_selection import train_test_split\n",
    "\n",
    "from sklearn.neighbors import KNeighborsClassifier#모델링 중 하나\n",
    "#cross_val_score: 다양한 셈플링을 해서 여러번 테스트-->평균치를 구해본다.\n",
    "from sklearn.model_selection import cross_val_score#crossvaludation해주는거\n",
    "from sklearn.metrics import *\n",
    "import matplotlib as mpl\n",
    "import matplotlib.pyplot as plt\n",
    "import matplotlib.font_manager as fm  # 폰트 관련 용도\n",
    "\n",
    "from sklearn.model_selection import GridSearchCV#그리드서치\n",
    "from sklearn.preprocessing import StandardScaler #표준화(평균을 기준)\n",
    "from sklearn.preprocessing import MinMaxScaler # 정규화(정해진 규칙 기준, mix-max기준)\n",
    "from sklearn.preprocessing import LabelEncoder\n",
    "import numpy as np\n",
    "import pandas as pd\n",
    "#앙상블\n",
    "from sklearn.ensemble import VotingClassifier\n",
    "\n",
    "from sklearn import tree\n",
    "import numpy as np\n",
    "import matplotlib.pyplot as plt\n",
    "from sklearn import preprocessing\n",
    "\n",
    "from sklearn.tree import DecisionTreeClassifier## tree방법론의 DecisionTreeClassifier사용\n",
    "from sklearn.svm import SVC##svm방법론의 SVC사용\n",
    "from sklearn.linear_model import  LogisticRegression\n",
    "from sklearn.ensemble import  GradientBoostingClassifier\n",
    "from sklearn.experimental import  enable_hist_gradient_boosting\n",
    "from sklearn.ensemble import  HistGradientBoostingClassifier\n",
    "from xgboost import  XGBClassifier\n",
    "from lightgbm import  LGBMClassifier"
   ]
  },
  {
   "cell_type": "code",
   "execution_count": 2,
   "metadata": {
    "id": "Ll2enoumVTxQ"
   },
   "outputs": [],
   "source": [
    "#코렙한글쓰기.\n",
    "import matplotlib as mpl\n",
    "import matplotlib.pyplot as plt\n",
    "import matplotlib.font_manager as fm  # 폰트 관련 용도\n",
    " \n",
    "%config InlineBackend.figure_format = 'retina'\n",
    " \n",
    "#!apt -qq -y install fonts-nanum\n",
    "# 여기까지하고 런타임 다시 시작!!-----> 이 셀부터 설치빼고 다시 실행"
   ]
  },
  {
   "cell_type": "code",
   "execution_count": 3,
   "metadata": {
    "colab": {
     "base_uri": "https://localhost:8080/"
    },
    "id": "Kzadz4ezVV2i",
    "outputId": "da89339d-d4ec-45bd-806b-c5d6e31ce4c3"
   },
   "outputs": [
    {
     "name": "stdout",
     "output_type": "stream",
     "text": [
      "NanumBarunGothic\n"
     ]
    }
   ],
   "source": [
    "import matplotlib.font_manager as fm\n",
    "fontpath = '/usr/share/fonts/truetype/nanum/NanumBarunGothic.ttf'\n",
    "font_name = fm.FontProperties(fname=fontpath, size=9).get_name()\n",
    "plt.rc('font', family=font_name) \n",
    "print(font_name)"
   ]
  },
  {
   "cell_type": "code",
   "execution_count": 4,
   "metadata": {
    "id": "tFO88J4xVXJf"
   },
   "outputs": [],
   "source": [
    "#fm._rebuild()"
   ]
  },
  {
   "cell_type": "code",
   "execution_count": 4,
   "metadata": {
    "colab": {
     "base_uri": "https://localhost:8080/",
     "height": 300
    },
    "id": "5x5tm6gUX1t7",
    "outputId": "7eae99a9-26ce-44a4-8a11-359f2aaf5d40"
   },
   "outputs": [
    {
     "data": {
      "text/plain": [
       "Text(0.5, 1.0, '안녕!')"
      ]
     },
     "execution_count": 4,
     "metadata": {},
     "output_type": "execute_result"
    },
    {
     "data": {
      "image/png": "[encoded data removed]",
      "text/plain": [
       "<Figure size 432x288 with 1 Axes>"
      ]
     },
     "metadata": {
      "image/png": {
       "height": 265,
       "width": 378
      },
      "needs_background": "light"
     },
     "output_type": "display_data"
    }
   ],
   "source": [
    "plt.title('안녕!')"
   ]
  },
  {
   "cell_type": "code",
   "execution_count": 5,
   "metadata": {
    "colab": {
     "base_uri": "https://localhost:8080/",
     "height": 476
    },
    "id": "kcZpmSj02HsJ",
    "outputId": "b9b7cf24-f935-475e-d4ee-a40822b45d9a"
   },
   "outputs": [
    {
     "data": {
      "text/html": [
       "\n",
       "  <div id=\"df-2ca87e14-699f-4d90-b8a6-64717abf6ad1\">\n",
       "    <div class=\"colab-df-container\">\n",
       "      <div>\n",
       "<style scoped>\n",
       "    .dataframe tbody tr th:only-of-type {\n",
       "        vertical-align: middle;\n",
       "    }\n",
       "\n",
       "    .dataframe tbody tr th {\n",
       "        vertical-align: top;\n",
       "    }\n",
       "\n",
       "    .dataframe thead th {\n",
       "        text-align: right;\n",
       "    }\n",
       "</style>\n",
       "<table border=\"1\" class=\"dataframe\">\n",
       "  <thead>\n",
       "    <tr style=\"text-align: right;\">\n",
       "      <th></th>\n",
       "      <th>CRI_YM</th>\n",
       "      <th>TAG</th>\n",
       "      <th>평일휴일</th>\n",
       "      <th>요일</th>\n",
       "      <th>시간대</th>\n",
       "      <th>성별</th>\n",
       "      <th>연령대</th>\n",
       "      <th>건수합계</th>\n",
       "      <th>인터넷 쇼핑 이용자 비율 (%)</th>\n",
       "      <th>월 평균 구매빈도-1회 미만 (%)</th>\n",
       "      <th>월 평균 구매빈도-1~2회 미만 (%)</th>\n",
       "      <th>월 평균 구매빈도-2~3회 미만 (%)</th>\n",
       "      <th>월 평균 구매빈도-3회 이상 (%)</th>\n",
       "      <th>월 평균 구매빈도-평균 (회)</th>\n",
       "      <th>네이버 태그 클릭량</th>\n",
       "    </tr>\n",
       "  </thead>\n",
       "  <tbody>\n",
       "    <tr>\n",
       "      <th>0</th>\n",
       "      <td>2020</td>\n",
       "      <td>패션/화장품</td>\n",
       "      <td>평일</td>\n",
       "      <td>월</td>\n",
       "      <td>F.22-02시</td>\n",
       "      <td>F</td>\n",
       "      <td>B.3O대</td>\n",
       "      <td>890</td>\n",
       "      <td>94.7</td>\n",
       "      <td>18.2</td>\n",
       "      <td>14.0</td>\n",
       "      <td>18.9</td>\n",
       "      <td>48.9</td>\n",
       "      <td>3.8</td>\n",
       "      <td>188.0</td>\n",
       "    </tr>\n",
       "    <tr>\n",
       "      <th>1</th>\n",
       "      <td>2020</td>\n",
       "      <td>패션/화장품</td>\n",
       "      <td>휴일</td>\n",
       "      <td>일</td>\n",
       "      <td>F.22-02시</td>\n",
       "      <td>F</td>\n",
       "      <td>A.2O대</td>\n",
       "      <td>2958</td>\n",
       "      <td>97.5</td>\n",
       "      <td>20.2</td>\n",
       "      <td>18.2</td>\n",
       "      <td>15.8</td>\n",
       "      <td>45.8</td>\n",
       "      <td>3.7</td>\n",
       "      <td>196.0</td>\n",
       "    </tr>\n",
       "    <tr>\n",
       "      <th>2</th>\n",
       "      <td>2020</td>\n",
       "      <td>패션/화장품</td>\n",
       "      <td>평일</td>\n",
       "      <td>목</td>\n",
       "      <td>F.22-02시</td>\n",
       "      <td>F</td>\n",
       "      <td>A.2O대</td>\n",
       "      <td>1898</td>\n",
       "      <td>97.5</td>\n",
       "      <td>20.2</td>\n",
       "      <td>18.2</td>\n",
       "      <td>15.8</td>\n",
       "      <td>45.8</td>\n",
       "      <td>3.7</td>\n",
       "      <td>170.0</td>\n",
       "    </tr>\n",
       "    <tr>\n",
       "      <th>3</th>\n",
       "      <td>2020</td>\n",
       "      <td>패션/화장품</td>\n",
       "      <td>휴일</td>\n",
       "      <td>토</td>\n",
       "      <td>F.22-02시</td>\n",
       "      <td>F</td>\n",
       "      <td>A.2O대</td>\n",
       "      <td>2003</td>\n",
       "      <td>97.5</td>\n",
       "      <td>20.2</td>\n",
       "      <td>18.2</td>\n",
       "      <td>15.8</td>\n",
       "      <td>45.8</td>\n",
       "      <td>3.7</td>\n",
       "      <td>172.0</td>\n",
       "    </tr>\n",
       "    <tr>\n",
       "      <th>4</th>\n",
       "      <td>2020</td>\n",
       "      <td>패션/화장품</td>\n",
       "      <td>평일</td>\n",
       "      <td>수</td>\n",
       "      <td>A.02-06시</td>\n",
       "      <td>F</td>\n",
       "      <td>E.60대이상</td>\n",
       "      <td>110</td>\n",
       "      <td>19.8</td>\n",
       "      <td>33.3</td>\n",
       "      <td>13.4</td>\n",
       "      <td>22.7</td>\n",
       "      <td>30.5</td>\n",
       "      <td>2.6</td>\n",
       "      <td>177.0</td>\n",
       "    </tr>\n",
       "  </tbody>\n",
       "</table>\n",
       "</div>\n",
       "      <button class=\"colab-df-convert\" onclick=\"convertToInteractive('df-2ca87e14-699f-4d90-b8a6-64717abf6ad1')\"\n",
       "              title=\"Convert this dataframe to an interactive table.\"\n",
       "              style=\"display:none;\">\n",
       "        \n",
       "  <svg xmlns=\"http://www.w3.org/2000/svg\" height=\"24px\"viewBox=\"0 0 24 24\"\n",
       "       width=\"24px\">\n",
       "    <path d=\"M0 0h24v24H0V0z\" fill=\"none\"/>\n",
       "    <path d=\"M18.56 5.44l.94 2.06.94-2.06 2.06-.94-2.06-.94-.94-2.06-.94 2.06-2.06.94zm-11 1L8.5 8.5l.94-2.06 2.06-.94-2.06-.94L8.5 2.5l-.94 2.06-2.06.94zm10 10l.94 2.06.94-2.06 2.06-.94-2.06-.94-.94-2.06-.94 2.06-2.06.94z\"/><path d=\"M17.41 7.96l-1.37-1.37c-.4-.4-.92-.59-1.43-.59-.52 0-1.04.2-1.43.59L10.3 9.45l-7.72 7.72c-.78.78-.78 2.05 0 2.83L4 21.41c.39.39.9.59 1.41.59.51 0 1.02-.2 1.41-.59l7.78-7.78 2.81-2.81c.8-.78.8-2.07 0-2.86zM5.41 20L4 18.59l7.72-7.72 1.47 1.35L5.41 20z\"/>\n",
       "  </svg>\n",
       "      </button>\n",
       "      \n",
       "  <style>\n",
       "    .colab-df-container {\n",
       "      display:flex;\n",
       "      flex-wrap:wrap;\n",
       "      gap: 12px;\n",
       "    }\n",
       "\n",
       "    .colab-df-convert {\n",
       "      background-color: #E8F0FE;\n",
       "      border: none;\n",
       "      border-radius: 50%;\n",
       "      cursor: pointer;\n",
       "      display: none;\n",
       "      fill: #1967D2;\n",
       "      height: 32px;\n",
       "      padding: 0 0 0 0;\n",
       "      width: 32px;\n",
       "    }\n",
       "\n",
       "    .colab-df-convert:hover {\n",
       "      background-color: #E2EBFA;\n",
       "      box-shadow: 0px 1px 2px rgba(60, 64, 67, 0.3), 0px 1px 3px 1px rgba(60, 64, 67, 0.15);\n",
       "      fill: #174EA6;\n",
       "    }\n",
       "\n",
       "    [theme=dark] .colab-df-convert {\n",
       "      background-color: #3B4455;\n",
       "      fill: #D2E3FC;\n",
       "    }\n",
       "\n",
       "    [theme=dark] .colab-df-convert:hover {\n",
       "      background-color: #434B5C;\n",
       "      box-shadow: 0px 1px 3px 1px rgba(0, 0, 0, 0.15);\n",
       "      filter: drop-shadow(0px 1px 2px rgba(0, 0, 0, 0.3));\n",
       "      fill: #FFFFFF;\n",
       "    }\n",
       "  </style>\n",
       "\n",
       "      <script>\n",
       "        const buttonEl =\n",
       "          document.querySelector('#df-2ca87e14-699f-4d90-b8a6-64717abf6ad1 button.colab-df-convert');\n",
       "        buttonEl.style.display =\n",
       "          google.colab.kernel.accessAllowed ? 'block' : 'none';\n",
       "\n",
       "        async function convertToInteractive(key) {\n",
       "          const element = document.querySelector('#df-2ca87e14-699f-4d90-b8a6-64717abf6ad1');\n",
       "          const dataTable =\n",
       "            await google.colab.kernel.invokeFunction('convertToInteractive',\n",
       "                                                     [key], {});\n",
       "          if (!dataTable) return;\n",
       "\n",
       "          const docLinkHtml = 'Like what you see? Visit the ' +\n",
       "            '<a target=\"_blank\" href=https://colab.research.google.com/notebooks/data_table.ipynb>data table notebook</a>'\n",
       "            + ' to learn more about interactive tables.';\n",
       "          element.innerHTML = '';\n",
       "          dataTable['output_type'] = 'display_data';\n",
       "          await google.colab.output.renderOutput(dataTable, element);\n",
       "          const docLink = document.createElement('div');\n",
       "          docLink.innerHTML = docLinkHtml;\n",
       "          element.appendChild(docLink);\n",
       "        }\n",
       "      </script>\n",
       "    </div>\n",
       "  </div>\n",
       "  "
      ],
      "text/plain": [
       "   CRI_YM     TAG 평일휴일 요일       시간대 성별      연령대  건수합계  인터넷 쇼핑 이용자 비율 (%)  \\\n",
       "0    2020  패션/화장품   평일  월  F.22-02시  F    B.3O대   890               94.7   \n",
       "1    2020  패션/화장품   휴일  일  F.22-02시  F    A.2O대  2958               97.5   \n",
       "2    2020  패션/화장품   평일  목  F.22-02시  F    A.2O대  1898               97.5   \n",
       "3    2020  패션/화장품   휴일  토  F.22-02시  F    A.2O대  2003               97.5   \n",
       "4    2020  패션/화장품   평일  수  A.02-06시  F  E.60대이상   110               19.8   \n",
       "\n",
       "   월 평균 구매빈도-1회 미만 (%)  월 평균 구매빈도-1~2회 미만 (%)  월 평균 구매빈도-2~3회 미만 (%)  \\\n",
       "0                 18.2                   14.0                   18.9   \n",
       "1                 20.2                   18.2                   15.8   \n",
       "2                 20.2                   18.2                   15.8   \n",
       "3                 20.2                   18.2                   15.8   \n",
       "4                 33.3                   13.4                   22.7   \n",
       "\n",
       "   월 평균 구매빈도-3회 이상 (%)  월 평균 구매빈도-평균 (회)  네이버 태그 클릭량  \n",
       "0                 48.9               3.8       188.0  \n",
       "1                 45.8               3.7       196.0  \n",
       "2                 45.8               3.7       170.0  \n",
       "3                 45.8               3.7       172.0  \n",
       "4                 30.5               2.6       177.0  "
      ]
     },
     "execution_count": 5,
     "metadata": {},
     "output_type": "execute_result"
    }
   ],
   "source": [
    "df = pd.read_excel('/content/쇼핑몰_최종 (1).xlsx')\n",
    "df.head()"
   ]
  },
  {
   "cell_type": "markdown",
   "metadata": {
    "id": "nWbV1FsiQnhi"
   },
   "source": [
    "## 테그4개를 카테고리 분류하는 ML데이터셋입니다.\n",
    "## \n",
    "##\n"
   ]
  },
  {
   "cell_type": "code",
   "execution_count": 6,
   "metadata": {
    "colab": {
     "base_uri": "https://localhost:8080/"
    },
    "id": "4Azzc_ejM1Qr",
    "outputId": "99a12bc1-33aa-4a08-9113-826a8b50f0fb"
   },
   "outputs": [
    {
     "data": {
      "text/plain": [
       "CRI_YM                   0\n",
       "TAG                      0\n",
       "평일휴일                     0\n",
       "요일                       0\n",
       "시간대                      0\n",
       "성별                       0\n",
       "연령대                      0\n",
       "건수합계                     0\n",
       "인터넷 쇼핑 이용자 비율 (%)        0\n",
       "월 평균 구매빈도-1회 미만 (%)      0\n",
       "월 평균 구매빈도-1~2회 미만 (%)    0\n",
       "월 평균 구매빈도-2~3회 미만 (%)    0\n",
       "월 평균 구매빈도-3회 이상 (%)      0\n",
       "월 평균 구매빈도-평균 (회)         0\n",
       "네이버 태그 클릭량               0\n",
       "dtype: int64"
      ]
     },
     "execution_count": 6,
     "metadata": {},
     "output_type": "execute_result"
    }
   ],
   "source": [
    "df.isnull().sum()"
   ]
  },
  {
   "cell_type": "code",
   "execution_count": 7,
   "metadata": {
    "colab": {
     "base_uri": "https://localhost:8080/"
    },
    "id": "yFgNVbcfNJj9",
    "outputId": "a720ce18-82c4-4a38-d703-20e5145438e6"
   },
   "outputs": [
    {
     "data": {
      "text/plain": [
       "Index(['CRI_YM', 'TAG', '평일휴일', '요일', '시간대', '성별', '연령대', '건수합계',\n",
       "       '인터넷 쇼핑 이용자 비율 (%)', '월 평균 구매빈도-1회 미만 (%)', '월 평균 구매빈도-1~2회 미만 (%)',\n",
       "       '월 평균 구매빈도-2~3회 미만 (%)', '월 평균 구매빈도-3회 이상 (%)', '월 평균 구매빈도-평균 (회)',\n",
       "       '네이버 태그 클릭량'],\n",
       "      dtype='object')"
      ]
     },
     "execution_count": 7,
     "metadata": {},
     "output_type": "execute_result"
    }
   ],
   "source": [
    "df.columns"
   ]
  },
  {
   "cell_type": "code",
   "execution_count": 8,
   "metadata": {
    "id": "8ubzd7R9Z6Qg"
   },
   "outputs": [],
   "source": [
    "# 라벨인코딩을 하여 수치가 아닌 값들을 수치화해주자.\n",
    "encoder = LabelEncoder()\n",
    "df['평일휴일'] = encoder.fit_transform(df['평일휴일'])\n"
   ]
  },
  {
   "cell_type": "code",
   "execution_count": 9,
   "metadata": {
    "id": "eLz7k2Vfapo3"
   },
   "outputs": [],
   "source": [
    "encoder1 = LabelEncoder()\n",
    "df['요일'] = encoder1.fit_transform(df['요일'])"
   ]
  },
  {
   "cell_type": "code",
   "execution_count": 10,
   "metadata": {
    "id": "2_ilDV8_aq4W"
   },
   "outputs": [],
   "source": [
    "encoder2 = LabelEncoder()\n",
    "encoder3 = LabelEncoder()\n",
    "encoder4 = LabelEncoder()\n",
    "\n",
    "df['시간대'] = encoder2.fit_transform(df['시간대'])\n",
    "df['성별'] = encoder3.fit_transform(df['성별'])\n",
    "df['연령대'] = encoder4.fit_transform(df['연령대'])"
   ]
  },
  {
   "cell_type": "code",
   "execution_count": 11,
   "metadata": {
    "colab": {
     "base_uri": "https://localhost:8080/"
    },
    "id": "pyFhOVPqaq8O",
    "outputId": "8c964378-5ff2-4ea1-9ab1-b3b4d6c3e0a2"
   },
   "outputs": [
    {
     "name": "stdout",
     "output_type": "stream",
     "text": [
      "<class 'pandas.core.frame.DataFrame'>\n",
      "RangeIndex: 19997 entries, 0 to 19996\n",
      "Data columns (total 15 columns):\n",
      " #   Column                 Non-Null Count  Dtype  \n",
      "---  ------                 --------------  -----  \n",
      " 0   CRI_YM                 19997 non-null  int64  \n",
      " 1   TAG                    19997 non-null  object \n",
      " 2   평일휴일                   19997 non-null  int64  \n",
      " 3   요일                     19997 non-null  int64  \n",
      " 4   시간대                    19997 non-null  int64  \n",
      " 5   성별                     19997 non-null  int64  \n",
      " 6   연령대                    19997 non-null  int64  \n",
      " 7   건수합계                   19997 non-null  int64  \n",
      " 8   인터넷 쇼핑 이용자 비율 (%)      19997 non-null  float64\n",
      " 9   월 평균 구매빈도-1회 미만 (%)    19997 non-null  float64\n",
      " 10  월 평균 구매빈도-1~2회 미만 (%)  19997 non-null  float64\n",
      " 11  월 평균 구매빈도-2~3회 미만 (%)  19997 non-null  float64\n",
      " 12  월 평균 구매빈도-3회 이상 (%)    19997 non-null  float64\n",
      " 13  월 평균 구매빈도-평균 (회)       19997 non-null  float64\n",
      " 14  네이버 태그 클릭량             19997 non-null  float64\n",
      "dtypes: float64(7), int64(7), object(1)\n",
      "memory usage: 2.3+ MB\n"
     ]
    }
   ],
   "source": [
    "df.info()"
   ]
  },
  {
   "cell_type": "code",
   "execution_count": null,
   "metadata": {
    "id": "3bSX0FZ4aq_O"
   },
   "outputs": [],
   "source": [
    "#tag컬럼에서 '홈쇼핑'값을 없애보자-> 어케함...\n",
    "#df.drop(df['TAG']['홈쇼핑'],inplace=True)\n",
    "#df.head()"
   ]
  },
  {
   "cell_type": "code",
   "execution_count": 12,
   "metadata": {
    "colab": {
     "base_uri": "https://localhost:8080/"
    },
    "id": "ScATnXgpfDrU",
    "outputId": "dd0e631f-d84c-4fe3-9684-4a798d533899"
   },
   "outputs": [
    {
     "data": {
      "text/plain": [
       "CRI_YM                     2020\n",
       "TAG                      패션/화장품\n",
       "평일휴일                          1\n",
       "요일                            4\n",
       "시간대                           5\n",
       "성별                            0\n",
       "연령대                           0\n",
       "건수합계                       2958\n",
       "인터넷 쇼핑 이용자 비율 (%)          97.5\n",
       "월 평균 구매빈도-1회 미만 (%)        20.2\n",
       "월 평균 구매빈도-1~2회 미만 (%)      18.2\n",
       "월 평균 구매빈도-2~3회 미만 (%)      15.8\n",
       "월 평균 구매빈도-3회 이상 (%)        45.8\n",
       "월 평균 구매빈도-평균 (회)            3.7\n",
       "네이버 태그 클릭량                196.0\n",
       "Name: 1, dtype: object"
      ]
     },
     "execution_count": 12,
     "metadata": {},
     "output_type": "execute_result"
    }
   ],
   "source": [
    "df.loc[1]"
   ]
  },
  {
   "cell_type": "code",
   "execution_count": 13,
   "metadata": {
    "id": "sqlmakDuW0VQ"
   },
   "outputs": [],
   "source": [
    "#라벨인코딩을 해주자\n",
    "# 지금데이터는 안해줘도 됨. 다 수치화해서\n",
    "#test,train데이터를 나눠보자."
   ]
  },
  {
   "cell_type": "code",
   "execution_count": 14,
   "metadata": {
    "id": "tmvEjke75WMo"
   },
   "outputs": [],
   "source": [
    "X_train, X_test, y_train, y_test = train_test_split(\n",
    "    df[['CRI_YM', '평일휴일', '요일', '시간대', '성별', '연령대', '건수합계',\n",
    "       '인터넷 쇼핑 이용자 비율 (%)', '월 평균 구매빈도-1회 미만 (%)', '월 평균 구매빈도-1~2회 미만 (%)',\n",
    "       '월 평균 구매빈도-2~3회 미만 (%)', '월 평균 구매빈도-3회 이상 (%)', '월 평균 구매빈도-평균 (회)','네이버 태그 클릭량']],\n",
    "    df['TAG'],\n",
    "    test_size=0.2,\n",
    "    random_state=42\n",
    "\n",
    ")"
   ]
  },
  {
   "cell_type": "code",
   "execution_count": 15,
   "metadata": {
    "colab": {
     "base_uri": "https://localhost:8080/"
    },
    "id": "s5NdTjB3NUwK",
    "outputId": "8f4c0775-4cd5-48c8-e482-0667afaf0048"
   },
   "outputs": [
    {
     "data": {
      "text/plain": [
       "((15997, 14), (4000, 14))"
      ]
     },
     "execution_count": 15,
     "metadata": {},
     "output_type": "execute_result"
    }
   ],
   "source": [
    "X_train.shape, X_test.shape"
   ]
  },
  {
   "cell_type": "code",
   "execution_count": 16,
   "metadata": {
    "colab": {
     "base_uri": "https://localhost:8080/"
    },
    "id": "PmO5nWPDNYb5",
    "outputId": "dee7fa4d-2c66-4ab1-a37b-4abb0de224c2"
   },
   "outputs": [
    {
     "data": {
      "text/plain": [
       "((15997,), (4000,))"
      ]
     },
     "execution_count": 16,
     "metadata": {},
     "output_type": "execute_result"
    }
   ],
   "source": [
    "y_train.shape, y_test.shape"
   ]
  },
  {
   "cell_type": "code",
   "execution_count": 17,
   "metadata": {
    "colab": {
     "base_uri": "https://localhost:8080/"
    },
    "id": "rU_Ir9Q1NaVZ",
    "outputId": "7bd60d05-6512-4655-89b2-f221c5009e59"
   },
   "outputs": [
    {
     "data": {
      "text/plain": [
       "5748                      식료품\n",
       "1688                   패션/화장품\n",
       "8174     생활/취미/사무용품/인테리어/골프용품\n",
       "10194    생활/취미/사무용품/인테리어/골프용품\n",
       "4667                      식료품\n",
       "5198                      식료품\n",
       "196                    패션/화장품\n",
       "518                    패션/화장품\n",
       "19140    생활/취미/사무용품/인테리어/골프용품\n",
       "17652    생활/취미/사무용품/인테리어/골프용품\n",
       "Name: TAG, dtype: object"
      ]
     },
     "execution_count": 17,
     "metadata": {},
     "output_type": "execute_result"
    }
   ],
   "source": [
    "y_train[:10]"
   ]
  },
  {
   "cell_type": "code",
   "execution_count": 18,
   "metadata": {
    "id": "QqbJsSUANcwi"
   },
   "outputs": [],
   "source": [
    "## 단일 모델들에 대한 객체 생성\n",
    "## voting(hard/soft)"
   ]
  },
  {
   "cell_type": "code",
   "execution_count": 19,
   "metadata": {
    "colab": {
     "base_uri": "https://localhost:8080/"
    },
    "id": "jSwD8zLON0H5",
    "outputId": "1e987179-4e5a-4647-bdc9-1d4c1b1438aa"
   },
   "outputs": [
    {
     "data": {
      "text/plain": [
       "DecisionTreeClassifier(max_depth=3, max_features=14, random_state=100)"
      ]
     },
     "execution_count": 19,
     "metadata": {},
     "output_type": "execute_result"
    }
   ],
   "source": [
    "dt = DecisionTreeClassifier(\n",
    "    criterion='gini',\n",
    "    max_depth = 3,\n",
    "    max_features = 14,\n",
    "    random_state = 100\n",
    ")\n",
    "dt.fit(X_train, y_train)"
   ]
  },
  {
   "cell_type": "code",
   "execution_count": 20,
   "metadata": {
    "colab": {
     "base_uri": "https://localhost:8080/"
    },
    "id": "xInVnpTEN7dp",
    "outputId": "f2cbd5ea-c7b5-4562-c0f0-1d7b4cd763f1"
   },
   "outputs": [
    {
     "data": {
      "text/plain": [
       "SVC(C=0.1, gamma=10, probability=True, random_state=10)"
      ]
     },
     "execution_count": 20,
     "metadata": {},
     "output_type": "execute_result"
    }
   ],
   "source": [
    "svc = SVC(\n",
    "    kernel = 'rbf',\n",
    "    C=0.1,\n",
    "    gamma=10,\n",
    "    probability=True,\n",
    "    random_state = 10\n",
    ")\n",
    "svc.fit(X_train, y_train)"
   ]
  },
  {
   "cell_type": "code",
   "execution_count": 21,
   "metadata": {
    "colab": {
     "base_uri": "https://localhost:8080/"
    },
    "id": "6SbAoGfoPpSG",
    "outputId": "80e5ccd3-9fe0-4583-a4f9-6d4cbdc2c853"
   },
   "outputs": [
    {
     "data": {
      "text/plain": [
       "LogisticRegression()"
      ]
     },
     "execution_count": 21,
     "metadata": {},
     "output_type": "execute_result"
    }
   ],
   "source": [
    "lr = LogisticRegression()\n",
    "lr.fit(X_train, y_train)"
   ]
  },
  {
   "cell_type": "code",
   "execution_count": 22,
   "metadata": {
    "id": "XZMRZTRpS-xI"
   },
   "outputs": [],
   "source": [
    "dt_predt = dt.predict(X_test)"
   ]
  },
  {
   "cell_type": "code",
   "execution_count": 23,
   "metadata": {
    "id": "sjgaS1I9TApH"
   },
   "outputs": [],
   "source": [
    "svc_predt = svc.predict(X_test)"
   ]
  },
  {
   "cell_type": "code",
   "execution_count": 24,
   "metadata": {
    "id": "0I_PX7w5TBk4"
   },
   "outputs": [],
   "source": [
    "lr_predt = lr.predict(X_test)"
   ]
  },
  {
   "cell_type": "code",
   "execution_count": 25,
   "metadata": {
    "colab": {
     "base_uri": "https://localhost:8080/"
    },
    "id": "xb5z3ubeTEZ4",
    "outputId": "f87008a7-f52d-4596-daff-d1706821bb87"
   },
   "outputs": [
    {
     "data": {
      "text/plain": [
       "(0.9345, 0.6185, 0.936)"
      ]
     },
     "execution_count": 25,
     "metadata": {},
     "output_type": "execute_result"
    }
   ],
   "source": [
    "dt_acc = accuracy_score(y_test, dt_predt)\n",
    "svc_acc = accuracy_score(y_test, svc_predt)\n",
    "lr_acc = accuracy_score(y_test, lr_predt)\n",
    "dt_acc, svc_acc, lr_acc"
   ]
  },
  {
   "cell_type": "code",
   "execution_count": 41,
   "metadata": {
    "colab": {
     "base_uri": "https://localhost:8080/",
     "height": 248
    },
    "id": "kpfLRXu5tW9R",
    "outputId": "ebbaf88d-c49d-4138-a8fa-c4fb4c67d410"
   },
   "outputs": [
    {
     "data": {
      "image/png": "[encoded data removed]",
      "text/plain": [
       "<Figure size 432x288 with 1 Axes>"
      ]
     },
     "metadata": {
      "image/png": {
       "height": 231,
       "width": 253
      }
     },
     "output_type": "display_data"
    }
   ],
   "source": [
    "##가장 정확도가 높은 함수를 찾아보자.\n",
    "accuracyDSL = pd.Series([0.9345,0.6185,0.936],index=['dt_acc','svc_acc','lr_acc'])\n",
    "plt.pie(accuracyDSL, labels = accuracyDSL.index, autopct = '%.1f%%')\n",
    "plt.show()"
   ]
  },
  {
   "cell_type": "code",
   "execution_count": 26,
   "metadata": {
    "colab": {
     "base_uri": "https://localhost:8080/"
    },
    "id": "xML5x_iKTGjI",
    "outputId": "03e17d17-5cae-4b1c-9655-a243e499eb65"
   },
   "outputs": [
    {
     "data": {
      "text/plain": [
       "0.928"
      ]
     },
     "execution_count": 26,
     "metadata": {},
     "output_type": "execute_result"
    }
   ],
   "source": [
    "## 하드 보팅\n",
    "voting_clf1 = VotingClassifier(\n",
    "    estimators= [\n",
    "        ('decision tree', dt), \n",
    "        ('svc', svc), \n",
    "        ('lr', lr)\n",
    "    ],\n",
    "    weights=[1, 1, 1],\n",
    "    voting='hard'\n",
    ")\n",
    "voting_clf1.fit(X_train, y_train)\n",
    "hard_voting_predicted = voting_clf1.predict(X_test)\n",
    "accuracy_score(y_test, hard_voting_predicted)"
   ]
  },
  {
   "cell_type": "code",
   "execution_count": 27,
   "metadata": {
    "colab": {
     "base_uri": "https://localhost:8080/"
    },
    "id": "JpEPBuvNjbik",
    "outputId": "8bbb7bc0-2b1b-4fda-9ee7-3d526d1051b8"
   },
   "outputs": [
    {
     "data": {
      "text/plain": [
       "0.931"
      ]
     },
     "execution_count": 27,
     "metadata": {},
     "output_type": "execute_result"
    }
   ],
   "source": [
    "## 소프트 보팅\n",
    "voting_clf2 = VotingClassifier(\n",
    "    estimators= [\n",
    "        ('decision tree', dt), \n",
    "        ('svc', svc), \n",
    "        ('lr', lr)\n",
    "    ],\n",
    "    weights=[1, 1, 1],\n",
    "    voting='soft'\n",
    ")\n",
    "voting_clf2.fit(X_train, y_train)\n",
    "soft_voting_predicted = voting_clf2.predict(X_test)\n",
    "accuracy_score(y_test, soft_voting_predicted)"
   ]
  },
  {
   "cell_type": "code",
   "execution_count": 40,
   "metadata": {
    "colab": {
     "base_uri": "https://localhost:8080/",
     "height": 266
    },
    "id": "cFHrymmejfS3",
    "outputId": "39e05ce0-646a-44ce-dea5-2cfbc1d8935b"
   },
   "outputs": [
    {
     "data": {
      "image/png": "[encoded data removed]",
      "text/plain": [
       "<Figure size 432x288 with 1 Axes>"
      ]
     },
     "metadata": {
      "image/png": {
       "height": 249,
       "width": 370
      },
      "needs_background": "light"
     },
     "output_type": "display_data"
    }
   ],
   "source": [
    "### 그래프로 그려보세요. accuracy(dtree, knn, svm, hard voting, soft voting)\n",
    "import matplotlib.pyplot as plt\n",
    "import numpy as np\n",
    "%matplotlib inline\n",
    "\n",
    "x = np.arange(2)\n",
    "plt.bar(x, height= [\n",
    "                    accuracy_score(y_test, hard_voting_predicted),\n",
    "                    accuracy_score(y_test, soft_voting_predicted)\n",
    "            ])\n",
    "plt.xticks(x, ['hard voting 0.928','soft voting 0.931']);"
   ]
  },
  {
   "cell_type": "code",
   "execution_count": 29,
   "metadata": {
    "colab": {
     "base_uri": "https://localhost:8080/"
    },
    "id": "G5pBhQEzjg-T",
    "outputId": "e9259b94-4ef1-4c0d-fca2-5ca3953127d2"
   },
   "outputs": [
    {
     "data": {
      "text/plain": [
       "RandomForestClassifier(max_depth=5, random_state=10)"
      ]
     },
     "execution_count": 29,
     "metadata": {},
     "output_type": "execute_result"
    }
   ],
   "source": [
    "## bagging\n",
    "rf = RandomForestClassifier(\n",
    "    n_estimators=100,\n",
    "    max_depth=5,\n",
    "    random_state=10\n",
    ")\n",
    "rf.fit(X_train, y_train)"
   ]
  },
  {
   "cell_type": "code",
   "execution_count": 30,
   "metadata": {
    "colab": {
     "base_uri": "https://localhost:8080/"
    },
    "id": "CGIdQQ4jjiOl",
    "outputId": "7641d17c-337b-46bf-b749-ab5ff2d70f91"
   },
   "outputs": [
    {
     "data": {
      "text/plain": [
       "0.8945"
      ]
     },
     "execution_count": 30,
     "metadata": {},
     "output_type": "execute_result"
    }
   ],
   "source": [
    "rf_predt = rf.predict(X_test)\n",
    "rf_acc = accuracy_score(y_test, rf_predt)\n",
    "rf_acc"
   ]
  },
  {
   "cell_type": "code",
   "execution_count": 45,
   "metadata": {
    "colab": {
     "base_uri": "https://localhost:8080/",
     "height": 266
    },
    "id": "Wcsfoxu-jlVg",
    "outputId": "6d3c46e2-8df3-4169-f534-04f512d415e8"
   },
   "outputs": [
    {
     "data": {
      "image/png": "[encoded data removed]",
      "text/plain": [
       "<Figure size 432x288 with 1 Axes>"
      ]
     },
     "metadata": {
      "image/png": {
       "height": 249,
       "width": 370
      },
      "needs_background": "light"
     },
     "output_type": "display_data"
    }
   ],
   "source": [
    "x = np.arange(5)\n",
    "plt.bar(x, height= [\n",
    "                    accuracy_score(y_test, hard_voting_predicted),\n",
    "                    accuracy_score(y_test, soft_voting_predicted),\n",
    "                    accuracy_score(y_test, rf_predt),\n",
    "                    accuracy_score(y_test, dt_predt),\n",
    "                    accuracy_score(y_test, lr_predt)\n",
    "            ])\n",
    "plt.xticks(x, ['hard voting','soft voting', 'bagging','decision tree','logistic']);"
   ]
  },
  {
   "cell_type": "code",
   "execution_count": 32,
   "metadata": {
    "colab": {
     "base_uri": "https://localhost:8080/"
    },
    "id": "pkxd6FOCjnCN",
    "outputId": "c0cdb105-8458-4b6e-bfcc-03f7e9763bcb"
   },
   "outputs": [
    {
     "data": {
      "text/plain": [
       "array([[2382,   20,   72,    0],\n",
       "       [  43,  190,   65,    0],\n",
       "       [  63,   12,  234,    0],\n",
       "       [   1,    0,    0,  918]])"
      ]
     },
     "execution_count": 32,
     "metadata": {},
     "output_type": "execute_result"
    }
   ],
   "source": [
    "confusion_matrix(y_test, soft_voting_predicted)"
   ]
  },
  {
   "cell_type": "code",
   "execution_count": 33,
   "metadata": {
    "colab": {
     "base_uri": "https://localhost:8080/"
    },
    "id": "U96G6XSfjqvt",
    "outputId": "577e1dfe-b540-4c14-c06c-6d7814ce3d91"
   },
   "outputs": [
    {
     "data": {
      "text/plain": [
       "array([[2472,    2,    0,    0],\n",
       "       [ 167,  123,    0,    8],\n",
       "       [ 239,    1,   65,    4],\n",
       "       [   1,    0,    0,  918]])"
      ]
     },
     "execution_count": 33,
     "metadata": {},
     "output_type": "execute_result"
    }
   ],
   "source": [
    "confusion_matrix(y_test, rf_predt)"
   ]
  },
  {
   "cell_type": "code",
   "execution_count": 34,
   "metadata": {
    "id": "IbK3wOBzjuQd"
   },
   "outputs": [],
   "source": [
    "gbc = GradientBoostingClassifier(\n",
    "     random_state=42\n",
    ").fit(X_train, y_train)"
   ]
  },
  {
   "cell_type": "code",
   "execution_count": 35,
   "metadata": {
    "colab": {
     "base_uri": "https://localhost:8080/"
    },
    "id": "RU6mbJLZjvTT",
    "outputId": "5564e3f4-4fd1-4f1f-d2bd-903dccffeac2"
   },
   "outputs": [
    {
     "data": {
      "text/plain": [
       "0.98925"
      ]
     },
     "execution_count": 35,
     "metadata": {},
     "output_type": "execute_result"
    }
   ],
   "source": [
    "gbc_predicted = gbc.predict(X_test)\n",
    "accuracy_score(y_test, gbc_predicted)"
   ]
  },
  {
   "cell_type": "code",
   "execution_count": 47,
   "metadata": {
    "colab": {
     "base_uri": "https://localhost:8080/",
     "height": 266
    },
    "id": "Z0BykkxskPrj",
    "outputId": "0ab404ba-9ed2-4129-e549-47f085d1126e"
   },
   "outputs": [
    {
     "data": {
      "image/png": "[encoded data removed]",
      "text/plain": [
       "<Figure size 432x288 with 1 Axes>"
      ]
     },
     "metadata": {
      "image/png": {
       "height": 249,
       "width": 370
      },
      "needs_background": "light"
     },
     "output_type": "display_data"
    }
   ],
   "source": [
    "x = ['hard voting','soft voting', 'bagging','decision tree','logistic']\n",
    "y = [               accuracy_score(y_test, hard_voting_predicted),\n",
    "                    accuracy_score(y_test, soft_voting_predicted),\n",
    "                    accuracy_score(y_test, rf_predt),\n",
    "                    accuracy_score(y_test, dt_predt),\n",
    "                    accuracy_score(y_test, lr_predt)]\n",
    "\n",
    "import matplotlib.pyplot as plt\n",
    "\n",
    "plt.bar(x,y)\n",
    "\n",
    "for i, v in enumerate(x):\n",
    "    plt.text(v, y[i], y[i],                 # 좌표 (x축 = v, y축 = y[0]..y[1], 표시 = y[0]..y[1])\n",
    "             fontsize = 9, \n",
    "             color='blue',\n",
    "             horizontalalignment='center',  # horizontalalignment (left, center, right)\n",
    "             verticalalignment='bottom')    # verticalalignment (top, center, bottom)\n",
    "\n",
    "plt.show()"
   ]
  },
  {
   "cell_type": "code",
   "execution_count": 48,
   "metadata": {
    "id": "ejocUxOE1E3J"
   },
   "outputs": [],
   "source": [
    "params = {#하이퍼파라메터 설정으로 가질 수 있는 모든 경우의 수=> 4*3*2=24가지의 경우의 수 생김.\n",
    "    'max_depth':[3, 5, 7, 10],#key:하이퍼파라메터 명, values는 list타입이어야 함.\n",
    "    'random_state': [1,3,5],\n",
    "    'criterion':[\"gini\", \"entropy\"]#혼란스러운 정도(분류의 정도)를 계산하는 기준\n",
    "    \n",
    "}"
   ]
  },
  {
   "cell_type": "code",
   "execution_count": 49,
   "metadata": {
    "id": "m3eebQGpEIBI"
   },
   "outputs": [],
   "source": [
    "##하이퍼 파라메터=> gird search\n",
    "def grid_search(model, params, k=5):#cv는 꼭 kfold값이 필요하다@!(k값)\n",
    "    gs_model = GridSearchCV(model, params, cv=k)#모든파라메터에 대해 전부 적용시켜주는 모델 GridSearchCV() \n",
    "    #gs_model는 최적의 파라메터가 적용된 모델의 객체\n",
    "    gs_model.fit(X_train, y_train)\n",
    "    print(gs_model.best_estimator_)##최적의 파라메터가 적용된 모델 객체\n",
    "    print('best_score_은>>> ',gs_model.best_score_)#최적의 파라메터가 적용된 모델로 학습한 정확도 결과(acc)\n",
    "    print('best_params_은>>> ',gs_model.best_params_)#최적의 파라메터(grid_search를 통해서 찾은)\n",
    "    print(gs_model)##grid_search객체"
   ]
  },
  {
   "cell_type": "code",
   "execution_count": 50,
   "metadata": {
    "colab": {
     "base_uri": "https://localhost:8080/"
    },
    "id": "CGIvlv6rELi-",
    "outputId": "c6aef39a-2920-4fda-e770-3e531c004ee5"
   },
   "outputs": [
    {
     "name": "stdout",
     "output_type": "stream",
     "text": [
      "DecisionTreeClassifier(max_depth=10, max_features=14, random_state=5)\n",
      "best_score_은>>>  0.975932986870897\n",
      "best_params_은>>>  {'criterion': 'gini', 'max_depth': 10, 'random_state': 5}\n",
      "GridSearchCV(cv=5,\n",
      "             estimator=DecisionTreeClassifier(max_depth=3, max_features=14,\n",
      "                                              random_state=100),\n",
      "             param_grid={'criterion': ['gini', 'entropy'],\n",
      "                         'max_depth': [3, 5, 7, 10],\n",
      "                         'random_state': [1, 3, 5]})\n"
     ]
    }
   ],
   "source": [
    "# 함수의 모든 파라메터를 보고 싶으면 함수명쓰고 shift+tab하면 됨\n",
    "grid_search(dt, params, 5)#그리드서치의 모든경우의수는 "
   ]
  },
  {
   "cell_type": "code",
   "execution_count": 51,
   "metadata": {
    "id": "OJsKRpjoEqT1"
   },
   "outputs": [],
   "source": [
    "##테스트 데이터로 검증해보자.\n",
    "def test_validation(model, X_test, y_test):\n",
    "    predict_result = model.predict(X_test)#예측한 결과\n",
    "    acc = accuracy_score(y_test, predict_result)\n",
    "    print('accuracy>> ', acc)\n",
    "    cf = confusion_matrix(y_test,predict_result)#답안지넣고, 예측값 넣고\n",
    "    #실제(c)-->예측(c,sg),실제(sg)-->예측(c,sg)\n",
    "    #이진분류(binary classification)인 경우에는\n",
    "    #예측할 수 있는 경우의 수는 4가지이다.\n",
    "    #4가지를 표 형태로 정리해주는 것이 confusion_matrix!\n",
    "    #첫번째 행/렬은 c 두번째 행/렬은 sg, abc..순으로 들어감\n",
    "    print('confusion_matrix>> \\n', cf)\n",
    "    ##confusion matrix는 binary classfication인 경우에는 보기가 괜찮으나,\n",
    "    ##multi class classification인 경우에는 보기가 힘들다.\n",
    "    #이럴 때 사용하는 것이 classification report이다.\n",
    "    c_report = classification_report(y_test, predict_result)\n",
    "    print('classification_report>> \\n', c_report)\n",
    "    "
   ]
  },
  {
   "cell_type": "code",
   "execution_count": 54,
   "metadata": {
    "colab": {
     "base_uri": "https://localhost:8080/"
    },
    "id": "EZgj-ma7FbMd",
    "outputId": "c2160de3-458d-431e-b0f6-ac59f2a19c18"
   },
   "outputs": [
    {
     "data": {
      "text/plain": [
       "DecisionTreeClassifier(max_depth=3, random_state=1)"
      ]
     },
     "execution_count": 54,
     "metadata": {},
     "output_type": "execute_result"
    }
   ],
   "source": [
    "##최적의 하이퍼 파라메터로 모델 객체를 생성해서 \n",
    "##fit()시켜보자.\n",
    "dt_gs = DecisionTreeClassifier(criterion='gini', max_depth=3, random_state= 1)#그리드 서치를 통해 찾은 최적의 파라메터 적용.\n",
    "dt_gs.fit(X_train, y_train)"
   ]
  },
  {
   "cell_type": "code",
   "execution_count": 55,
   "metadata": {
    "colab": {
     "base_uri": "https://localhost:8080/"
    },
    "id": "L6vhWy16FSX-",
    "outputId": "7a7599bd-334a-49f5-d5c8-b9efabe19992"
   },
   "outputs": [
    {
     "name": "stdout",
     "output_type": "stream",
     "text": [
      "accuracy>>  0.9345\n",
      "confusion_matrix>> \n",
      " [[2338   30  106    0]\n",
      " [   2  192  104    0]\n",
      " [   4   15  290    0]\n",
      " [   1    0    0  918]]\n",
      "classification_report>> \n",
      "                       precision    recall  f1-score   support\n",
      "\n",
      "생활/취미/사무용품/인테리어/골프용품       1.00      0.95      0.97      2474\n",
      "                 식료품       0.81      0.64      0.72       298\n",
      "                애완용품       0.58      0.94      0.72       309\n",
      "              패션/화장품       1.00      1.00      1.00       919\n",
      "\n",
      "            accuracy                           0.93      4000\n",
      "           macro avg       0.85      0.88      0.85      4000\n",
      "        weighted avg       0.95      0.93      0.94      4000\n",
      "\n"
     ]
    }
   ],
   "source": [
    "test_validation(dt_gs, X_test, y_test)"
   ]
  },
  {
   "cell_type": "code",
   "execution_count": null,
   "metadata": {
    "id": "Lyt-QcOYFiet"
   },
   "outputs": [],
   "source": [
    "df2 = "
   ]
  }
 ],
 "metadata": {
  "colab": {
   "collapsed_sections": [],
   "name": "앙상블 연습(쇼핑몰프로젝트데이터).ipynb",
   "provenance": []
  },
  "kernelspec": {
   "display_name": "Python 3",
   "name": "python3"
  },
  "language_info": {
   "name": "python"
  }
 },
 "nbformat": 4,
 "nbformat_minor": 0
}
