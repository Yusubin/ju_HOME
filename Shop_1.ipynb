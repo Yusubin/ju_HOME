{
 "cells": [
  {
   "cell_type": "code",
   "execution_count": 1,
   "id": "add99249",
   "metadata": {},
   "outputs": [
    {
     "data": {
      "text/html": [
       "<div>\n",
       "<style scoped>\n",
       "    .dataframe tbody tr th:only-of-type {\n",
       "        vertical-align: middle;\n",
       "    }\n",
       "\n",
       "    .dataframe tbody tr th {\n",
       "        vertical-align: top;\n",
       "    }\n",
       "\n",
       "    .dataframe thead th {\n",
       "        text-align: right;\n",
       "    }\n",
       "</style>\n",
       "<table border=\"1\" class=\"dataframe\">\n",
       "  <thead>\n",
       "    <tr style=\"text-align: right;\">\n",
       "      <th></th>\n",
       "      <th>CRI_YM</th>\n",
       "      <th>TAG</th>\n",
       "      <th>평일휴일</th>\n",
       "      <th>요일</th>\n",
       "      <th>시간대</th>\n",
       "      <th>성별</th>\n",
       "      <th>연령대</th>\n",
       "      <th>인터넷 쇼핑 이용자 비율 (%)</th>\n",
       "      <th>월 평균 구매빈도-1회 미만 (%)</th>\n",
       "      <th>월 평균 구매빈도-1~2회 미만 (%)</th>\n",
       "      <th>월 평균 구매빈도-2~3회 미만 (%)</th>\n",
       "      <th>월 평균 구매빈도-3회 이상 (%)</th>\n",
       "      <th>월 평균 구매빈도-평균 (회)</th>\n",
       "      <th>건수합계</th>\n",
       "      <th>네이버 태그 클릭량</th>\n",
       "    </tr>\n",
       "  </thead>\n",
       "  <tbody>\n",
       "    <tr>\n",
       "      <th>0</th>\n",
       "      <td>NaN</td>\n",
       "      <td>NaN</td>\n",
       "      <td>NaN</td>\n",
       "      <td>NaN</td>\n",
       "      <td>NaN</td>\n",
       "      <td>NaN</td>\n",
       "      <td>NaN</td>\n",
       "      <td>NaN</td>\n",
       "      <td>NaN</td>\n",
       "      <td>NaN</td>\n",
       "      <td>NaN</td>\n",
       "      <td>NaN</td>\n",
       "      <td>NaN</td>\n",
       "      <td>NaN</td>\n",
       "      <td>NaN</td>\n",
       "    </tr>\n",
       "    <tr>\n",
       "      <th>1</th>\n",
       "      <td>2020.0</td>\n",
       "      <td>생활/사무용품</td>\n",
       "      <td>평일</td>\n",
       "      <td>월</td>\n",
       "      <td>D.14-18시</td>\n",
       "      <td>M</td>\n",
       "      <td>C.4O대</td>\n",
       "      <td>66.7</td>\n",
       "      <td>28.3</td>\n",
       "      <td>17.9</td>\n",
       "      <td>21.0</td>\n",
       "      <td>32.8</td>\n",
       "      <td>2.9</td>\n",
       "      <td>6225.0</td>\n",
       "      <td>21.0</td>\n",
       "    </tr>\n",
       "    <tr>\n",
       "      <th>2</th>\n",
       "      <td>NaN</td>\n",
       "      <td>NaN</td>\n",
       "      <td>NaN</td>\n",
       "      <td>NaN</td>\n",
       "      <td>NaN</td>\n",
       "      <td>NaN</td>\n",
       "      <td>NaN</td>\n",
       "      <td>NaN</td>\n",
       "      <td>NaN</td>\n",
       "      <td>NaN</td>\n",
       "      <td>NaN</td>\n",
       "      <td>NaN</td>\n",
       "      <td>NaN</td>\n",
       "      <td>NaN</td>\n",
       "      <td>NaN</td>\n",
       "    </tr>\n",
       "    <tr>\n",
       "      <th>3</th>\n",
       "      <td>2021.0</td>\n",
       "      <td>화장품</td>\n",
       "      <td>휴일</td>\n",
       "      <td>일</td>\n",
       "      <td>D.14-18시</td>\n",
       "      <td>F</td>\n",
       "      <td>C.4O대</td>\n",
       "      <td>89.8</td>\n",
       "      <td>9.3</td>\n",
       "      <td>14.9</td>\n",
       "      <td>17.6</td>\n",
       "      <td>58.2</td>\n",
       "      <td>5.3</td>\n",
       "      <td>3564.0</td>\n",
       "      <td>154.0</td>\n",
       "    </tr>\n",
       "    <tr>\n",
       "      <th>4</th>\n",
       "      <td>2020.0</td>\n",
       "      <td>인테리어</td>\n",
       "      <td>평일</td>\n",
       "      <td>월</td>\n",
       "      <td>C.10-14시</td>\n",
       "      <td>F</td>\n",
       "      <td>D.5O대</td>\n",
       "      <td>46.3</td>\n",
       "      <td>28.2</td>\n",
       "      <td>14.1</td>\n",
       "      <td>20.2</td>\n",
       "      <td>37.4</td>\n",
       "      <td>3.4</td>\n",
       "      <td>1101.0</td>\n",
       "      <td>33.0</td>\n",
       "    </tr>\n",
       "  </tbody>\n",
       "</table>\n",
       "</div>"
      ],
      "text/plain": [
       "   CRI_YM      TAG 평일휴일   요일       시간대   성별    연령대  인터넷 쇼핑 이용자 비율 (%)  \\\n",
       "0     NaN      NaN  NaN  NaN       NaN  NaN    NaN                NaN   \n",
       "1  2020.0  생활/사무용품   평일    월  D.14-18시    M  C.4O대               66.7   \n",
       "2     NaN      NaN  NaN  NaN       NaN  NaN    NaN                NaN   \n",
       "3  2021.0      화장품   휴일    일  D.14-18시    F  C.4O대               89.8   \n",
       "4  2020.0     인테리어   평일    월  C.10-14시    F  D.5O대               46.3   \n",
       "\n",
       "   월 평균 구매빈도-1회 미만 (%)  월 평균 구매빈도-1~2회 미만 (%)  월 평균 구매빈도-2~3회 미만 (%)  \\\n",
       "0                  NaN                    NaN                    NaN   \n",
       "1                 28.3                   17.9                   21.0   \n",
       "2                  NaN                    NaN                    NaN   \n",
       "3                  9.3                   14.9                   17.6   \n",
       "4                 28.2                   14.1                   20.2   \n",
       "\n",
       "   월 평균 구매빈도-3회 이상 (%)  월 평균 구매빈도-평균 (회)    건수합계  네이버 태그 클릭량  \n",
       "0                  NaN               NaN     NaN         NaN  \n",
       "1                 32.8               2.9  6225.0        21.0  \n",
       "2                  NaN               NaN     NaN         NaN  \n",
       "3                 58.2               5.3  3564.0       154.0  \n",
       "4                 37.4               3.4  1101.0        33.0  "
      ]
     },
     "execution_count": 1,
     "metadata": {},
     "output_type": "execute_result"
    }
   ],
   "source": [
    "import pandas as pd\n",
    "\n",
    "data = pd.read_excel('쇼핑몰_최종2.xlsx')\n",
    "data.head()"
   ]
  },
  {
   "cell_type": "code",
   "execution_count": 2,
   "id": "0725eb3e",
   "metadata": {},
   "outputs": [],
   "source": [
    "#데이터프레임 내 결측치를 포함한 모든 행을 제거 \n",
    "data= data.dropna(axis= 0)"
   ]
  },
  {
   "cell_type": "code",
   "execution_count": 9,
   "id": "9d10643c",
   "metadata": {},
   "outputs": [
    {
     "data": {
      "text/html": [
       "<div>\n",
       "<style scoped>\n",
       "    .dataframe tbody tr th:only-of-type {\n",
       "        vertical-align: middle;\n",
       "    }\n",
       "\n",
       "    .dataframe tbody tr th {\n",
       "        vertical-align: top;\n",
       "    }\n",
       "\n",
       "    .dataframe thead th {\n",
       "        text-align: right;\n",
       "    }\n",
       "</style>\n",
       "<table border=\"1\" class=\"dataframe\">\n",
       "  <thead>\n",
       "    <tr style=\"text-align: right;\">\n",
       "      <th></th>\n",
       "      <th>CRI_YM</th>\n",
       "      <th>TAG</th>\n",
       "      <th>평일휴일</th>\n",
       "      <th>요일</th>\n",
       "      <th>시간대</th>\n",
       "      <th>성별</th>\n",
       "      <th>연령대</th>\n",
       "      <th>인터넷 쇼핑 이용자 비율 (%)</th>\n",
       "      <th>월 평균 구매빈도-1회 미만 (%)</th>\n",
       "      <th>월 평균 구매빈도-1~2회 미만 (%)</th>\n",
       "      <th>월 평균 구매빈도-2~3회 미만 (%)</th>\n",
       "      <th>월 평균 구매빈도-3회 이상 (%)</th>\n",
       "      <th>월 평균 구매빈도-평균 (회)</th>\n",
       "      <th>건수합계</th>\n",
       "      <th>네이버 태그 클릭량</th>\n",
       "    </tr>\n",
       "  </thead>\n",
       "  <tbody>\n",
       "    <tr>\n",
       "      <th>1</th>\n",
       "      <td>2020.0</td>\n",
       "      <td>생활/사무용품</td>\n",
       "      <td>평일</td>\n",
       "      <td>월</td>\n",
       "      <td>D.14-18시</td>\n",
       "      <td>M</td>\n",
       "      <td>C.4O대</td>\n",
       "      <td>66.7</td>\n",
       "      <td>28.3</td>\n",
       "      <td>17.9</td>\n",
       "      <td>21.0</td>\n",
       "      <td>32.8</td>\n",
       "      <td>2.9</td>\n",
       "      <td>6225.0</td>\n",
       "      <td>21.0</td>\n",
       "    </tr>\n",
       "    <tr>\n",
       "      <th>3</th>\n",
       "      <td>2021.0</td>\n",
       "      <td>화장품</td>\n",
       "      <td>휴일</td>\n",
       "      <td>일</td>\n",
       "      <td>D.14-18시</td>\n",
       "      <td>F</td>\n",
       "      <td>C.4O대</td>\n",
       "      <td>89.8</td>\n",
       "      <td>9.3</td>\n",
       "      <td>14.9</td>\n",
       "      <td>17.6</td>\n",
       "      <td>58.2</td>\n",
       "      <td>5.3</td>\n",
       "      <td>3564.0</td>\n",
       "      <td>154.0</td>\n",
       "    </tr>\n",
       "    <tr>\n",
       "      <th>4</th>\n",
       "      <td>2020.0</td>\n",
       "      <td>인테리어</td>\n",
       "      <td>평일</td>\n",
       "      <td>월</td>\n",
       "      <td>C.10-14시</td>\n",
       "      <td>F</td>\n",
       "      <td>D.5O대</td>\n",
       "      <td>46.3</td>\n",
       "      <td>28.2</td>\n",
       "      <td>14.1</td>\n",
       "      <td>20.2</td>\n",
       "      <td>37.4</td>\n",
       "      <td>3.4</td>\n",
       "      <td>1101.0</td>\n",
       "      <td>33.0</td>\n",
       "    </tr>\n",
       "    <tr>\n",
       "      <th>5</th>\n",
       "      <td>2019.0</td>\n",
       "      <td>식료품</td>\n",
       "      <td>평일</td>\n",
       "      <td>월</td>\n",
       "      <td>B.06-10시</td>\n",
       "      <td>M</td>\n",
       "      <td>E.60대이상</td>\n",
       "      <td>20.3</td>\n",
       "      <td>20.8</td>\n",
       "      <td>21.4</td>\n",
       "      <td>12.3</td>\n",
       "      <td>45.4</td>\n",
       "      <td>3.2</td>\n",
       "      <td>171.0</td>\n",
       "      <td>61.0</td>\n",
       "    </tr>\n",
       "    <tr>\n",
       "      <th>11</th>\n",
       "      <td>2019.0</td>\n",
       "      <td>취미용품</td>\n",
       "      <td>휴일</td>\n",
       "      <td>월</td>\n",
       "      <td>D.14-18시</td>\n",
       "      <td>F</td>\n",
       "      <td>E.60대이상</td>\n",
       "      <td>14.5</td>\n",
       "      <td>24.4</td>\n",
       "      <td>27.1</td>\n",
       "      <td>12.9</td>\n",
       "      <td>35.5</td>\n",
       "      <td>2.7</td>\n",
       "      <td>10.0</td>\n",
       "      <td>32.0</td>\n",
       "    </tr>\n",
       "    <tr>\n",
       "      <th>...</th>\n",
       "      <td>...</td>\n",
       "      <td>...</td>\n",
       "      <td>...</td>\n",
       "      <td>...</td>\n",
       "      <td>...</td>\n",
       "      <td>...</td>\n",
       "      <td>...</td>\n",
       "      <td>...</td>\n",
       "      <td>...</td>\n",
       "      <td>...</td>\n",
       "      <td>...</td>\n",
       "      <td>...</td>\n",
       "      <td>...</td>\n",
       "      <td>...</td>\n",
       "      <td>...</td>\n",
       "    </tr>\n",
       "    <tr>\n",
       "      <th>21549</th>\n",
       "      <td>2019.0</td>\n",
       "      <td>인테리어</td>\n",
       "      <td>휴일</td>\n",
       "      <td>일</td>\n",
       "      <td>D.14-18시</td>\n",
       "      <td>M</td>\n",
       "      <td>A.2O대</td>\n",
       "      <td>94.3</td>\n",
       "      <td>13.2</td>\n",
       "      <td>20.4</td>\n",
       "      <td>22.1</td>\n",
       "      <td>44.2</td>\n",
       "      <td>2.9</td>\n",
       "      <td>233.0</td>\n",
       "      <td>58.0</td>\n",
       "    </tr>\n",
       "    <tr>\n",
       "      <th>21550</th>\n",
       "      <td>2020.0</td>\n",
       "      <td>식료품</td>\n",
       "      <td>휴일</td>\n",
       "      <td>금</td>\n",
       "      <td>B.06-10시</td>\n",
       "      <td>M</td>\n",
       "      <td>C.4O대</td>\n",
       "      <td>66.7</td>\n",
       "      <td>28.3</td>\n",
       "      <td>17.9</td>\n",
       "      <td>21.0</td>\n",
       "      <td>32.8</td>\n",
       "      <td>2.9</td>\n",
       "      <td>430.0</td>\n",
       "      <td>68.0</td>\n",
       "    </tr>\n",
       "    <tr>\n",
       "      <th>21551</th>\n",
       "      <td>2019.0</td>\n",
       "      <td>패션</td>\n",
       "      <td>휴일</td>\n",
       "      <td>수</td>\n",
       "      <td>F.22-02시</td>\n",
       "      <td>M</td>\n",
       "      <td>C.4O대</td>\n",
       "      <td>66.8</td>\n",
       "      <td>17.1</td>\n",
       "      <td>23.2</td>\n",
       "      <td>20.0</td>\n",
       "      <td>39.7</td>\n",
       "      <td>2.9</td>\n",
       "      <td>796.0</td>\n",
       "      <td>176.0</td>\n",
       "    </tr>\n",
       "    <tr>\n",
       "      <th>21552</th>\n",
       "      <td>2019.0</td>\n",
       "      <td>패션</td>\n",
       "      <td>평일</td>\n",
       "      <td>월</td>\n",
       "      <td>F.22-02시</td>\n",
       "      <td>M</td>\n",
       "      <td>C.4O대</td>\n",
       "      <td>66.8</td>\n",
       "      <td>17.1</td>\n",
       "      <td>23.2</td>\n",
       "      <td>20.0</td>\n",
       "      <td>39.7</td>\n",
       "      <td>2.9</td>\n",
       "      <td>2470.0</td>\n",
       "      <td>157.0</td>\n",
       "    </tr>\n",
       "    <tr>\n",
       "      <th>21555</th>\n",
       "      <td>2021.0</td>\n",
       "      <td>인테리어</td>\n",
       "      <td>평일</td>\n",
       "      <td>화</td>\n",
       "      <td>C.10-14시</td>\n",
       "      <td>F</td>\n",
       "      <td>E.60대이상</td>\n",
       "      <td>31.7</td>\n",
       "      <td>11.0</td>\n",
       "      <td>18.7</td>\n",
       "      <td>19.6</td>\n",
       "      <td>50.7</td>\n",
       "      <td>4.1</td>\n",
       "      <td>415.0</td>\n",
       "      <td>25.0</td>\n",
       "    </tr>\n",
       "  </tbody>\n",
       "</table>\n",
       "<p>10885 rows × 15 columns</p>\n",
       "</div>"
      ],
      "text/plain": [
       "       CRI_YM      TAG 평일휴일 요일       시간대 성별      연령대  인터넷 쇼핑 이용자 비율 (%)  \\\n",
       "1      2020.0  생활/사무용품   평일  월  D.14-18시  M    C.4O대               66.7   \n",
       "3      2021.0      화장품   휴일  일  D.14-18시  F    C.4O대               89.8   \n",
       "4      2020.0     인테리어   평일  월  C.10-14시  F    D.5O대               46.3   \n",
       "5      2019.0      식료품   평일  월  B.06-10시  M  E.60대이상               20.3   \n",
       "11     2019.0     취미용품   휴일  월  D.14-18시  F  E.60대이상               14.5   \n",
       "...       ...      ...  ... ..       ... ..      ...                ...   \n",
       "21549  2019.0     인테리어   휴일  일  D.14-18시  M    A.2O대               94.3   \n",
       "21550  2020.0      식료품   휴일  금  B.06-10시  M    C.4O대               66.7   \n",
       "21551  2019.0       패션   휴일  수  F.22-02시  M    C.4O대               66.8   \n",
       "21552  2019.0       패션   평일  월  F.22-02시  M    C.4O대               66.8   \n",
       "21555  2021.0     인테리어   평일  화  C.10-14시  F  E.60대이상               31.7   \n",
       "\n",
       "       월 평균 구매빈도-1회 미만 (%)  월 평균 구매빈도-1~2회 미만 (%)  월 평균 구매빈도-2~3회 미만 (%)  \\\n",
       "1                     28.3                   17.9                   21.0   \n",
       "3                      9.3                   14.9                   17.6   \n",
       "4                     28.2                   14.1                   20.2   \n",
       "5                     20.8                   21.4                   12.3   \n",
       "11                    24.4                   27.1                   12.9   \n",
       "...                    ...                    ...                    ...   \n",
       "21549                 13.2                   20.4                   22.1   \n",
       "21550                 28.3                   17.9                   21.0   \n",
       "21551                 17.1                   23.2                   20.0   \n",
       "21552                 17.1                   23.2                   20.0   \n",
       "21555                 11.0                   18.7                   19.6   \n",
       "\n",
       "       월 평균 구매빈도-3회 이상 (%)  월 평균 구매빈도-평균 (회)    건수합계  네이버 태그 클릭량  \n",
       "1                     32.8               2.9  6225.0        21.0  \n",
       "3                     58.2               5.3  3564.0       154.0  \n",
       "4                     37.4               3.4  1101.0        33.0  \n",
       "5                     45.4               3.2   171.0        61.0  \n",
       "11                    35.5               2.7    10.0        32.0  \n",
       "...                    ...               ...     ...         ...  \n",
       "21549                 44.2               2.9   233.0        58.0  \n",
       "21550                 32.8               2.9   430.0        68.0  \n",
       "21551                 39.7               2.9   796.0       176.0  \n",
       "21552                 39.7               2.9  2470.0       157.0  \n",
       "21555                 50.7               4.1   415.0        25.0  \n",
       "\n",
       "[10885 rows x 15 columns]"
      ]
     },
     "execution_count": 9,
     "metadata": {},
     "output_type": "execute_result"
    }
   ],
   "source": [
    "data"
   ]
  },
  {
   "cell_type": "code",
   "execution_count": 10,
   "id": "dd394f7c",
   "metadata": {},
   "outputs": [],
   "source": [
    "import matplotlib as mpl \n",
    "import matplotlib.font_manager as fm\n",
    "from matplotlib import pyplot as plt\n",
    "%config inlineBackend.figure_format = 'retina'\n",
    "#fontpath = '/Windows/Fonts/CASTELAR.TTF'\n",
    "#font_name = fm.FontProperties(fname=fontpath, size=9).get_name()\n",
    "#plt.rc('font', family=font_name) \n",
    "#print(font_name)\n",
    "plt.rcParams[\"font.family\"] = \"Malgun Gothic\"\n",
    "plt.rcParams[\"font.size\"] = 12\n",
    "plt.rcParams[\"figure.figsize\"] = (14,4)\n"
   ]
  },
  {
   "cell_type": "code",
   "execution_count": 11,
   "id": "5dec875a",
   "metadata": {},
   "outputs": [],
   "source": [
    "# 그래프를 노트북 안에 그리기 위해 설정\n",
    "%matplotlib inline\n",
    "\n",
    "# 필요한 패키지와 라이브러리를 가져옴\n",
    "import matplotlib as mpl\n",
    "import matplotlib.pyplot as plt\n",
    "import matplotlib.font_manager as fm\n",
    "\n",
    "# 그래프에서 마이너스 폰트 깨지는 문제에 대한 대처\n",
    "mpl.rcParams['axes.unicode_minus'] = False\n",
    "\n"
   ]
  },
  {
   "cell_type": "code",
   "execution_count": 12,
   "id": "84ce7c99",
   "metadata": {},
   "outputs": [
    {
     "name": "stdout",
     "output_type": "stream",
     "text": [
      "<class 'pandas.core.frame.DataFrame'>\n",
      "Int64Index: 10885 entries, 1 to 21555\n",
      "Data columns (total 15 columns):\n",
      " #   Column                 Non-Null Count  Dtype  \n",
      "---  ------                 --------------  -----  \n",
      " 0   CRI_YM                 10885 non-null  float64\n",
      " 1   TAG                    10885 non-null  object \n",
      " 2   평일휴일                   10885 non-null  object \n",
      " 3   요일                     10885 non-null  object \n",
      " 4   시간대                    10885 non-null  object \n",
      " 5   성별                     10885 non-null  object \n",
      " 6   연령대                    10885 non-null  object \n",
      " 7   인터넷 쇼핑 이용자 비율 (%)      10885 non-null  float64\n",
      " 8   월 평균 구매빈도-1회 미만 (%)    10885 non-null  float64\n",
      " 9   월 평균 구매빈도-1~2회 미만 (%)  10885 non-null  float64\n",
      " 10  월 평균 구매빈도-2~3회 미만 (%)  10885 non-null  float64\n",
      " 11  월 평균 구매빈도-3회 이상 (%)    10885 non-null  float64\n",
      " 12  월 평균 구매빈도-평균 (회)       10885 non-null  float64\n",
      " 13  건수합계                   10885 non-null  float64\n",
      " 14  네이버 태그 클릭량             10885 non-null  float64\n",
      "dtypes: float64(9), object(6)\n",
      "memory usage: 1.3+ MB\n"
     ]
    }
   ],
   "source": [
    "data.info()"
   ]
  },
  {
   "cell_type": "code",
   "execution_count": 13,
   "id": "9d5a40e2",
   "metadata": {},
   "outputs": [
    {
     "name": "stdout",
     "output_type": "stream",
     "text": [
      "<class 'pandas.core.frame.DataFrame'>\n",
      "Int64Index: 10885 entries, 1 to 21555\n",
      "Data columns (total 15 columns):\n",
      " #   Column                 Non-Null Count  Dtype  \n",
      "---  ------                 --------------  -----  \n",
      " 0   CRI_YM                 10885 non-null  float64\n",
      " 1   TAG                    10885 non-null  object \n",
      " 2   평일휴일                   10885 non-null  object \n",
      " 3   요일                     10885 non-null  object \n",
      " 4   시간대                    10885 non-null  object \n",
      " 5   성별                     10885 non-null  object \n",
      " 6   연령대                    10885 non-null  object \n",
      " 7   인터넷 쇼핑 이용자 비율 (%)      10885 non-null  float64\n",
      " 8   월 평균 구매빈도-1회 미만 (%)    10885 non-null  float64\n",
      " 9   월 평균 구매빈도-1~2회 미만 (%)  10885 non-null  float64\n",
      " 10  월 평균 구매빈도-2~3회 미만 (%)  10885 non-null  float64\n",
      " 11  월 평균 구매빈도-3회 이상 (%)    10885 non-null  float64\n",
      " 12  월 평균 구매빈도-평균 (회)       10885 non-null  float64\n",
      " 13  건수합계                   10885 non-null  float64\n",
      " 14  네이버 태그 클릭량             10885 non-null  float64\n",
      "dtypes: float64(9), object(6)\n",
      "memory usage: 1.3+ MB\n"
     ]
    }
   ],
   "source": [
    "data['네이버 태그 클릭량'] = data[['네이버 태그 클릭량']].apply(pd.to_numeric) \n",
    "data.info()"
   ]
  },
  {
   "cell_type": "code",
   "execution_count": 14,
   "id": "97324400",
   "metadata": {},
   "outputs": [
    {
     "name": "stdout",
     "output_type": "stream",
     "text": [
      "평일    6295\n",
      "휴일    4590\n",
      "Name: 평일휴일, dtype: int64\n",
      "---------------------------------\n",
      "수    2092\n",
      "금    1677\n",
      "화    1674\n",
      "월    1668\n",
      "목    1260\n",
      "일    1257\n",
      "토    1257\n",
      "Name: 요일, dtype: int64\n",
      "---------------------------------\n",
      "D.14-18시    1820\n",
      "C.10-14시    1820\n",
      "E.18-22시    1820\n",
      "F.22-02시    1820\n",
      "B.06-10시    1818\n",
      "A.02-06시    1787\n",
      "Name: 시간대, dtype: int64\n",
      "---------------------------------\n",
      "F    5444\n",
      "M    5441\n",
      "Name: 성별, dtype: int64\n",
      "---------------------------------\n",
      "C.4O대      2184\n",
      "B.3O대      2184\n",
      "A.2O대      2184\n",
      "D.5O대      2180\n",
      "E.60대이상    2153\n",
      "Name: 연령대, dtype: int64\n"
     ]
    }
   ],
   "source": [
    "#print(sample_data['TAG'].value_counts())\n",
    "#print('---------------------------------')\n",
    "print(data['평일휴일'].value_counts())\n",
    "print('---------------------------------')\n",
    "print(data['요일'].value_counts())\n",
    "print('---------------------------------')\n",
    "print(data['시간대'].value_counts())\n",
    "print('---------------------------------')\n",
    "print(data['성별'].value_counts())\n",
    "print('---------------------------------')\n",
    "print(data['연령대'].value_counts())"
   ]
  },
  {
   "cell_type": "code",
   "execution_count": 17,
   "id": "7b1eadb0",
   "metadata": {},
   "outputs": [
    {
     "name": "stdout",
     "output_type": "stream",
     "text": [
      "['생활/사무용품' '식료품' '애완용품' '인테리어' '취미용품' '패션' '화장품']\n",
      "['평일' '휴일']\n",
      "['금' '목' '수' '월' '일' '토' '화']\n",
      "['A.02-06시' 'B.06-10시' 'C.10-14시' 'D.14-18시' 'E.18-22시' 'F.22-02시']\n",
      "['F' 'M']\n",
      "['A.2O대' 'B.3O대' 'C.4O대' 'D.5O대' 'E.60대이상']\n",
      "    CRI_YM  TAG  평일휴일  요일  시간대  성별  연령대  인터넷 쇼핑 이용자 비율 (%)  \\\n",
      "1   2020.0    0     0   3    3   1    2               66.7   \n",
      "3   2021.0    6     1   4    3   0    2               89.8   \n",
      "4   2020.0    3     0   3    2   0    3               46.3   \n",
      "5   2019.0    1     0   3    1   1    4               20.3   \n",
      "11  2019.0    4     1   3    3   0    4               14.5   \n",
      "\n",
      "    월 평균 구매빈도-1회 미만 (%)  월 평균 구매빈도-1~2회 미만 (%)  월 평균 구매빈도-2~3회 미만 (%)  \\\n",
      "1                  28.3                   17.9                   21.0   \n",
      "3                   9.3                   14.9                   17.6   \n",
      "4                  28.2                   14.1                   20.2   \n",
      "5                  20.8                   21.4                   12.3   \n",
      "11                 24.4                   27.1                   12.9   \n",
      "\n",
      "    월 평균 구매빈도-3회 이상 (%)  월 평균 구매빈도-평균 (회)    건수합계  네이버 태그 클릭량  \n",
      "1                  32.8               2.9  6225.0        21.0  \n",
      "3                  58.2               5.3  3564.0       154.0  \n",
      "4                  37.4               3.4  1101.0        33.0  \n",
      "5                  45.4               3.2   171.0        61.0  \n",
      "11                 35.5               2.7    10.0        32.0  \n"
     ]
    }
   ],
   "source": [
    "#Object 형을 수치화 \n",
    "from sklearn.preprocessing import LabelEncoder\n",
    "\n",
    "le = LabelEncoder()\n",
    "data['TAG'] = le.fit_transform(data['TAG'])\n",
    "print(le.classes_)\n",
    "data['평일휴일'] = le.fit_transform(data['평일휴일'])\n",
    "print(le.classes_)\n",
    "data['요일'] = le.fit_transform(data['요일'])\n",
    "print(le.classes_)\n",
    "data['시간대'] = le.fit_transform(data['시간대'])\n",
    "print(le.classes_)\n",
    "data['성별'] = le.fit_transform(data['성별'])\n",
    "print(le.classes_)\n",
    "data['연령대'] = le.fit_transform(data['연령대'])\n",
    "print(le.classes_)\n",
    "\n",
    "print(data.head())\n"
   ]
  },
  {
   "cell_type": "code",
   "execution_count": 18,
   "id": "ab3f7ac3",
   "metadata": {},
   "outputs": [
    {
     "name": "stdout",
     "output_type": "stream",
     "text": [
      "1        0\n",
      "3        6\n",
      "4        3\n",
      "5        1\n",
      "11       4\n",
      "        ..\n",
      "21549    3\n",
      "21550    1\n",
      "21551    5\n",
      "21552    5\n",
      "21555    3\n",
      "Name: TAG, Length: 10885, dtype: int32\n",
      "[[0]\n",
      " [6]\n",
      " [3]\n",
      " ...\n",
      " [5]\n",
      " [5]\n",
      " [3]]\n",
      "       평일휴일  요일  시간대  성별  연령대    건수합계  네이버 태그 클릭량\n",
      "1         0   3    3   1    2  6225.0        21.0\n",
      "3         1   4    3   0    2  3564.0       154.0\n",
      "4         0   3    2   0    3  1101.0        33.0\n",
      "5         0   3    1   1    4   171.0        61.0\n",
      "11        1   3    3   0    4    10.0        32.0\n",
      "...     ...  ..  ...  ..  ...     ...         ...\n",
      "21549     1   4    3   1    0   233.0        58.0\n",
      "21550     1   0    1   1    2   430.0        68.0\n",
      "21551     1   2    5   1    2   796.0       176.0\n",
      "21552     0   3    5   1    2  2470.0       157.0\n",
      "21555     0   6    2   0    4   415.0        25.0\n",
      "\n",
      "[10885 rows x 7 columns]\n"
     ]
    }
   ],
   "source": [
    "#Tag를 기준으로 확률을 높여보자! \n",
    "y = data['TAG']\n",
    "print(y)\n",
    "#\n",
    "y = y.values.reshape(-1,1)\n",
    "print(y)\n",
    "\n",
    "y = pd.DataFrame(y)\n",
    "\n",
    "X= pd.DataFrame(data, columns=['평일휴일','요일','시간대','성별','연령대','건수합계','네이버 태그 클릭량'])\n",
    "print(X)"
   ]
  },
  {
   "cell_type": "code",
   "execution_count": 19,
   "id": "e7d3a55a",
   "metadata": {},
   "outputs": [
    {
     "data": {
      "text/plain": [
       "DecisionTreeClassifier(random_state=156)"
      ]
     },
     "execution_count": 19,
     "metadata": {},
     "output_type": "execute_result"
    }
   ],
   "source": [
    "from sklearn.model_selection import train_test_split\n",
    "%matplotlib inline \n",
    "\n",
    "from sklearn.preprocessing import StandardScaler\n",
    "from sklearn.tree import DecisionTreeClassifier\n",
    "import warnings\n",
    "warnings.filterwarnings('ignore')\n",
    "\n",
    "dt_clf = DecisionTreeClassifier(random_state=156)\n",
    "\n",
    "X_train, X_test, y_train, y_test = train_test_split(X,y, test_size = 0.2, random_state = 3)\n",
    "\n",
    "dt_clf.fit(X_train, y_train)\n"
   ]
  },
  {
   "cell_type": "code",
   "execution_count": 20,
   "id": "5965dc65",
   "metadata": {},
   "outputs": [
    {
     "data": {
      "text/plain": [
       "((8708, 7), (2177, 7))"
      ]
     },
     "execution_count": 20,
     "metadata": {},
     "output_type": "execute_result"
    }
   ],
   "source": [
    "X_train.shape, X_test.shape"
   ]
  },
  {
   "cell_type": "code",
   "execution_count": 21,
   "id": "91564cf8",
   "metadata": {},
   "outputs": [
    {
     "data": {
      "text/plain": [
       "((8708, 1), (2177, 1))"
      ]
     },
     "execution_count": 21,
     "metadata": {},
     "output_type": "execute_result"
    }
   ],
   "source": [
    "y_train.shape, y_test.shape"
   ]
  },
  {
   "cell_type": "code",
   "execution_count": 22,
   "id": "d5173405",
   "metadata": {},
   "outputs": [
    {
     "data": {
      "text/html": [
       "<div>\n",
       "<style scoped>\n",
       "    .dataframe tbody tr th:only-of-type {\n",
       "        vertical-align: middle;\n",
       "    }\n",
       "\n",
       "    .dataframe tbody tr th {\n",
       "        vertical-align: top;\n",
       "    }\n",
       "\n",
       "    .dataframe thead th {\n",
       "        text-align: right;\n",
       "    }\n",
       "</style>\n",
       "<table border=\"1\" class=\"dataframe\">\n",
       "  <thead>\n",
       "    <tr style=\"text-align: right;\">\n",
       "      <th></th>\n",
       "      <th>0</th>\n",
       "    </tr>\n",
       "  </thead>\n",
       "  <tbody>\n",
       "    <tr>\n",
       "      <th>5375</th>\n",
       "      <td>5</td>\n",
       "    </tr>\n",
       "    <tr>\n",
       "      <th>9466</th>\n",
       "      <td>4</td>\n",
       "    </tr>\n",
       "    <tr>\n",
       "      <th>10398</th>\n",
       "      <td>0</td>\n",
       "    </tr>\n",
       "    <tr>\n",
       "      <th>4594</th>\n",
       "      <td>1</td>\n",
       "    </tr>\n",
       "    <tr>\n",
       "      <th>7410</th>\n",
       "      <td>3</td>\n",
       "    </tr>\n",
       "  </tbody>\n",
       "</table>\n",
       "</div>"
      ],
      "text/plain": [
       "       0\n",
       "5375   5\n",
       "9466   4\n",
       "10398  0\n",
       "4594   1\n",
       "7410   3"
      ]
     },
     "execution_count": 22,
     "metadata": {},
     "output_type": "execute_result"
    }
   ],
   "source": [
    "y_train[:5]"
   ]
  },
  {
   "cell_type": "code",
   "execution_count": 23,
   "id": "2f0555b9",
   "metadata": {},
   "outputs": [
    {
     "name": "stdout",
     "output_type": "stream",
     "text": [
      "결정 트리 예측 정확도:0.7616\n",
      "DecisionTreeClassifier 기본 하이퍼 파라미터:\n",
      " {'ccp_alpha': 0.0, 'class_weight': None, 'criterion': 'gini', 'max_depth': None, 'max_features': None, 'max_leaf_nodes': None, 'min_impurity_decrease': 0.0, 'min_samples_leaf': 1, 'min_samples_split': 2, 'min_weight_fraction_leaf': 0.0, 'random_state': 156, 'splitter': 'best'}\n"
     ]
    }
   ],
   "source": [
    "from sklearn.metrics import accuracy_score \n",
    "\n",
    "dt_clf = DecisionTreeClassifier(random_state = 156)\n",
    "dt_clf.fit(X_train, y_train)\n",
    "pred = dt_clf.predict(X_test)\n",
    "accuracy  = accuracy_score(y_test, pred)\n",
    "print('결정 트리 예측 정확도:{0:.4f}'.format(accuracy))\n",
    "\n",
    "#DecisionTreeClassifier의 하이퍼 파라미터 추출 \n",
    "print('DecisionTreeClassifier 기본 하이퍼 파라미터:\\n', dt_clf.get_params())"
   ]
  },
  {
   "cell_type": "code",
   "execution_count": 24,
   "id": "84692f95",
   "metadata": {},
   "outputs": [
    {
     "name": "stdout",
     "output_type": "stream",
     "text": [
      "Fitting 5 folds for each of 13 candidates, totalling 65 fits\n",
      "GridSearchCV 최고 평균 정확도 수치:0.7755\n",
      "GridSearchCV 최적 하이퍼 파라미터: {'max_depth': 14}\n"
     ]
    }
   ],
   "source": [
    "from sklearn.model_selection import GridSearchCV \n",
    "\n",
    "params = {\n",
    "    'max_depth': [3,6,8,10,12,14,16,18,20,22,24,26,28]\n",
    "}\n",
    "\n",
    "grid_cv = GridSearchCV(dt_clf, param_grid = params, scoring = 'accuracy', cv = 5, verbose = 1)\n",
    "grid_cv.fit(X_train, y_train)\n",
    "print('GridSearchCV 최고 평균 정확도 수치:{0:.4f}'.format(grid_cv.best_score_))\n",
    "print('GridSearchCV 최적 하이퍼 파라미터:', grid_cv.best_params_)\n",
    "\n",
    "##GridSearchCV 최고 정확도 : 0.97퍼센트\n",
    "##max_depth:12\n"
   ]
  },
  {
   "cell_type": "code",
   "execution_count": 25,
   "id": "fd160260",
   "metadata": {},
   "outputs": [
    {
     "data": {
      "text/html": [
       "<div>\n",
       "<style scoped>\n",
       "    .dataframe tbody tr th:only-of-type {\n",
       "        vertical-align: middle;\n",
       "    }\n",
       "\n",
       "    .dataframe tbody tr th {\n",
       "        vertical-align: top;\n",
       "    }\n",
       "\n",
       "    .dataframe thead th {\n",
       "        text-align: right;\n",
       "    }\n",
       "</style>\n",
       "<table border=\"1\" class=\"dataframe\">\n",
       "  <thead>\n",
       "    <tr style=\"text-align: right;\">\n",
       "      <th></th>\n",
       "      <th>param_max_depth</th>\n",
       "      <th>mean_test_score</th>\n",
       "    </tr>\n",
       "  </thead>\n",
       "  <tbody>\n",
       "    <tr>\n",
       "      <th>0</th>\n",
       "      <td>3</td>\n",
       "      <td>0.617019</td>\n",
       "    </tr>\n",
       "    <tr>\n",
       "      <th>1</th>\n",
       "      <td>6</td>\n",
       "      <td>0.679376</td>\n",
       "    </tr>\n",
       "    <tr>\n",
       "      <th>2</th>\n",
       "      <td>8</td>\n",
       "      <td>0.726457</td>\n",
       "    </tr>\n",
       "    <tr>\n",
       "      <th>3</th>\n",
       "      <td>10</td>\n",
       "      <td>0.753675</td>\n",
       "    </tr>\n",
       "    <tr>\n",
       "      <th>4</th>\n",
       "      <td>12</td>\n",
       "      <td>0.769865</td>\n",
       "    </tr>\n",
       "    <tr>\n",
       "      <th>5</th>\n",
       "      <td>14</td>\n",
       "      <td>0.775494</td>\n",
       "    </tr>\n",
       "    <tr>\n",
       "      <th>6</th>\n",
       "      <td>16</td>\n",
       "      <td>0.774345</td>\n",
       "    </tr>\n",
       "    <tr>\n",
       "      <th>7</th>\n",
       "      <td>18</td>\n",
       "      <td>0.769867</td>\n",
       "    </tr>\n",
       "    <tr>\n",
       "      <th>8</th>\n",
       "      <td>20</td>\n",
       "      <td>0.770440</td>\n",
       "    </tr>\n",
       "    <tr>\n",
       "      <th>9</th>\n",
       "      <td>22</td>\n",
       "      <td>0.770900</td>\n",
       "    </tr>\n",
       "    <tr>\n",
       "      <th>10</th>\n",
       "      <td>24</td>\n",
       "      <td>0.769867</td>\n",
       "    </tr>\n",
       "    <tr>\n",
       "      <th>11</th>\n",
       "      <td>26</td>\n",
       "      <td>0.769867</td>\n",
       "    </tr>\n",
       "    <tr>\n",
       "      <th>12</th>\n",
       "      <td>28</td>\n",
       "      <td>0.769867</td>\n",
       "    </tr>\n",
       "  </tbody>\n",
       "</table>\n",
       "</div>"
      ],
      "text/plain": [
       "   param_max_depth  mean_test_score\n",
       "0                3         0.617019\n",
       "1                6         0.679376\n",
       "2                8         0.726457\n",
       "3               10         0.753675\n",
       "4               12         0.769865\n",
       "5               14         0.775494\n",
       "6               16         0.774345\n",
       "7               18         0.769867\n",
       "8               20         0.770440\n",
       "9               22         0.770900\n",
       "10              24         0.769867\n",
       "11              26         0.769867\n",
       "12              28         0.769867"
      ]
     },
     "execution_count": 25,
     "metadata": {},
     "output_type": "execute_result"
    }
   ],
   "source": [
    "#GridSearchCV 객체의 cv_results_ 속성을 DataFrame으로 생성 \n",
    "cv_results_df = pd.DataFrame(grid_cv.cv_results_)\n",
    "\n",
    "#max_depth 파라미터 값과 그때의 테스트 세트, 학습 데이터 세트의 정확도 수치 추출 \n",
    "cv_results_df[['param_max_depth', 'mean_test_score']]"
   ]
  },
  {
   "cell_type": "code",
   "execution_count": 26,
   "id": "02f31b57",
   "metadata": {},
   "outputs": [
    {
     "name": "stdout",
     "output_type": "stream",
     "text": [
      "결정 트리 예측 정확도:0.7685\n"
     ]
    }
   ],
   "source": [
    "best_df_clf = grid_cv.best_estimator_ \n",
    "pred1 = best_df_clf.predict(X_test)\n",
    "dt_acc = accuracy_score(y_test, pred1)\n",
    "print('결정 트리 예측 정확도:{0:.4f}'.format(dt_acc))"
   ]
  },
  {
   "cell_type": "code",
   "execution_count": 27,
   "id": "00426ce9",
   "metadata": {},
   "outputs": [
    {
     "name": "stdout",
     "output_type": "stream",
     "text": [
      "Requirement already satisfied: xgboost in c:\\users\\yusub\\anaconda3\\lib\\site-packages (1.6.1)\n",
      "Requirement already satisfied: scipy in c:\\users\\yusub\\anaconda3\\lib\\site-packages (from xgboost) (1.7.3)\n",
      "Requirement already satisfied: numpy in c:\\users\\yusub\\anaconda3\\lib\\site-packages (from xgboost) (1.21.5)\n",
      "Note: you may need to restart the kernel to use updated packages.\n"
     ]
    }
   ],
   "source": [
    "pip install xgboost"
   ]
  },
  {
   "cell_type": "code",
   "execution_count": 28,
   "id": "91d666c5",
   "metadata": {},
   "outputs": [
    {
     "name": "stdout",
     "output_type": "stream",
     "text": [
      "Requirement already satisfied: lightgbm in c:\\users\\yusub\\anaconda3\\lib\\site-packages (3.3.2)\n",
      "Requirement already satisfied: numpy in c:\\users\\yusub\\anaconda3\\lib\\site-packages (from lightgbm) (1.21.5)\n",
      "Requirement already satisfied: wheel in c:\\users\\yusub\\anaconda3\\lib\\site-packages (from lightgbm) (0.37.1)\n",
      "Requirement already satisfied: scikit-learn!=0.22.0 in c:\\users\\yusub\\anaconda3\\lib\\site-packages (from lightgbm) (1.0.2)\n",
      "Requirement already satisfied: scipy in c:\\users\\yusub\\anaconda3\\lib\\site-packages (from lightgbm) (1.7.3)\n",
      "Requirement already satisfied: joblib>=0.11 in c:\\users\\yusub\\anaconda3\\lib\\site-packages (from scikit-learn!=0.22.0->lightgbm) (1.1.0)\n",
      "Requirement already satisfied: threadpoolctl>=2.0.0 in c:\\users\\yusub\\anaconda3\\lib\\site-packages (from scikit-learn!=0.22.0->lightgbm) (2.2.0)\n",
      "Note: you may need to restart the kernel to use updated packages.\n"
     ]
    }
   ],
   "source": [
    "pip install lightgbm"
   ]
  },
  {
   "cell_type": "code",
   "execution_count": 29,
   "id": "5c3bb8c1",
   "metadata": {},
   "outputs": [],
   "source": [
    "from sklearn.svm import SVC \n",
    "from sklearn.linear_model import LogisticRegression\n",
    "from sklearn.ensemble import GradientBoostingClassifier\n",
    "from sklearn.experimental import enable_hist_gradient_boosting\n",
    "from sklearn.ensemble import HistGradientBoostingClassifier\n",
    "from xgboost import XGBClassifier \n",
    "from lightgbm import LGBMClassifier "
   ]
  },
  {
   "cell_type": "code",
   "execution_count": 30,
   "id": "f9c855f8",
   "metadata": {},
   "outputs": [
    {
     "data": {
      "text/plain": [
       "SVC(C=0.1, gamma=10, probability=True, random_state=10)"
      ]
     },
     "execution_count": 30,
     "metadata": {},
     "output_type": "execute_result"
    }
   ],
   "source": [
    "\n",
    "\n",
    "svc = SVC(\n",
    "    kernel = 'rbf', \n",
    "    C = 0.1, \n",
    "    gamma = 10, \n",
    "    probability = True, \n",
    "    random_state = 10 \n",
    ")\n",
    "svc.fit(X_train, y_train)"
   ]
  },
  {
   "cell_type": "code",
   "execution_count": 31,
   "id": "6745ad38",
   "metadata": {},
   "outputs": [
    {
     "data": {
      "text/plain": [
       "LogisticRegression()"
      ]
     },
     "execution_count": 31,
     "metadata": {},
     "output_type": "execute_result"
    }
   ],
   "source": [
    "lr = LogisticRegression()\n",
    "lr.fit(X_train, y_train)"
   ]
  },
  {
   "cell_type": "code",
   "execution_count": 32,
   "id": "ebffac63",
   "metadata": {},
   "outputs": [],
   "source": [
    "svc_predt = svc.predict(X_test)"
   ]
  },
  {
   "cell_type": "code",
   "execution_count": 33,
   "id": "1aaa6510",
   "metadata": {},
   "outputs": [],
   "source": [
    "lr_predt = lr.predict(X_test)"
   ]
  },
  {
   "cell_type": "code",
   "execution_count": 34,
   "id": "835a992e",
   "metadata": {},
   "outputs": [
    {
     "data": {
      "text/plain": [
       "(0.7684887459807074, 0.13780431786862654, 0.31051906293063847)"
      ]
     },
     "execution_count": 34,
     "metadata": {},
     "output_type": "execute_result"
    }
   ],
   "source": [
    "svc_acc = accuracy_score(y_test, svc_predt)\n",
    "lr_acc = accuracy_score(y_test, lr_predt)\n",
    "dt_acc, svc_acc, lr_acc"
   ]
  },
  {
   "cell_type": "code",
   "execution_count": 35,
   "id": "c5c2cb71",
   "metadata": {},
   "outputs": [
    {
     "data": {
      "text/plain": [
       "0.36839687643546165"
      ]
     },
     "execution_count": 35,
     "metadata": {},
     "output_type": "execute_result"
    }
   ],
   "source": [
    "from sklearn.ensemble import VotingClassifier\n",
    "\n",
    "voting_clf1 = VotingClassifier(\n",
    "    estimators = [\n",
    "        ('decision tree', dt_clf), \n",
    "        ('svc', svc), \n",
    "        ('lr', lr)\n",
    "        \n",
    "    ], \n",
    "    weights = [1,1,1], \n",
    "    voting = 'hard'\n",
    ")\n",
    "\n",
    "voting_clf1.fit(X_train, y_train)\n",
    "hard_voting_predicted = voting_clf1.predict(X_test)\n",
    "hard_acc= accuracy_score(y_test, hard_voting_predicted)\n",
    "hard_acc"
   ]
  },
  {
   "cell_type": "code",
   "execution_count": 36,
   "id": "7f64184c",
   "metadata": {},
   "outputs": [
    {
     "data": {
      "text/plain": [
       "0.7615985300872761"
      ]
     },
     "execution_count": 36,
     "metadata": {},
     "output_type": "execute_result"
    }
   ],
   "source": [
    "voting_clf2 = VotingClassifier(\n",
    "    estimators = [\n",
    "        ('decision tree', dt_clf), \n",
    "        ('svc', svc), \n",
    "        ('lr', lr)\n",
    "    ], \n",
    "    weights = [1,1,1], \n",
    "    voting = 'soft'\n",
    ")\n",
    "\n",
    "voting_clf2.fit(X_train, y_train)\n",
    "soft_voting_predicted = voting_clf2.predict(X_test)\n",
    "soft_acc = accuracy_score(y_test, soft_voting_predicted)\n",
    "soft_acc"
   ]
  },
  {
   "cell_type": "code",
   "execution_count": 37,
   "id": "7e65420e",
   "metadata": {},
   "outputs": [
    {
     "data": {
      "text/plain": [
       "RandomForestClassifier(max_depth=5, random_state=10)"
      ]
     },
     "execution_count": 37,
     "metadata": {},
     "output_type": "execute_result"
    }
   ],
   "source": [
    "from sklearn.ensemble import RandomForestClassifier\n",
    "\n",
    "##bagging \n",
    "rf = RandomForestClassifier(\n",
    "    n_estimators = 100, \n",
    "    max_depth = 5, \n",
    "    random_state = 10 \n",
    ")\n",
    "rf.fit(X_train, y_train)"
   ]
  },
  {
   "cell_type": "code",
   "execution_count": 38,
   "id": "f4a0448c",
   "metadata": {},
   "outputs": [
    {
     "data": {
      "text/plain": [
       "0.6674322462103812"
      ]
     },
     "execution_count": 38,
     "metadata": {},
     "output_type": "execute_result"
    }
   ],
   "source": [
    "rf_predt = rf.predict(X_test)\n",
    "rf_acc = accuracy_score(y_test, rf_predt)\n",
    "rf_acc"
   ]
  },
  {
   "cell_type": "code",
   "execution_count": 39,
   "id": "e08f5904",
   "metadata": {},
   "outputs": [
    {
     "name": "stdout",
     "output_type": "stream",
     "text": [
      "가장 높은 정확도: 0.7684887459807074\n",
      "가장 높은 순위를 가진 인덱스: 2\n"
     ]
    },
    {
     "data": {
      "image/png": "[encoded data removed]",
      "text/plain": [
       "<Figure size 432x288 with 1 Axes>"
      ]
     },
     "metadata": {
      "needs_background": "light"
     },
     "output_type": "display_data"
    }
   ],
   "source": [
    "import numpy as np \n",
    "item = [svc_acc, lr_acc, dt_acc, hard_acc, soft_acc, rf_acc]\n",
    "x = np.arange(6)\n",
    "plt.bar(x, height = [\n",
    "            svc_acc, \n",
    "            lr_acc, \n",
    "            dt_acc, \n",
    "            hard_acc, \n",
    "            soft_acc, \n",
    "            rf_acc     \n",
    "])\n",
    "\n",
    "plt.xticks(x, ['SVC','Logistic', 'Decision Tree', 'hard', 'soft', 'RandomForest'])\n",
    "print('가장 높은 정확도:', max(item))\n",
    "print('가장 높은 순위를 가진 인덱스:', item.index(max(item)))"
   ]
  },
  {
   "cell_type": "code",
   "execution_count": 40,
   "id": "9435b8dc",
   "metadata": {},
   "outputs": [
    {
     "data": {
      "image/png": "[encoded data removed]",
      "text/plain": [
       "<Figure size 576x432 with 1 Axes>"
      ]
     },
     "metadata": {
      "needs_background": "light"
     },
     "output_type": "display_data"
    }
   ],
   "source": [
    "import seaborn as sns \n",
    "\n",
    "\n",
    "ftr_importances_values = best_df_clf.feature_importances_ \n",
    "\n",
    "#Top 중요도로 정렬을 쉽게하고, 시본의 막대그래프로 쉽게 표현하기 위해 Series 변환 \n",
    "ftr_importances = pd.Series(ftr_importances_values, index = X_train.columns)\n",
    "\n",
    "#중요도 값으로 Series를 정렬 \n",
    "ftr_top = ftr_importances.sort_values(ascending=False)\n",
    "plt.figure(figsize= (8,6))\n",
    "plt.title('Feature Importances Top')\n",
    "sns.barplot(x=ftr_top, y = ftr_top.index)\n",
    "plt.show()"
   ]
  },
  {
   "cell_type": "code",
   "execution_count": 41,
   "id": "a7f97c2a",
   "metadata": {},
   "outputs": [
    {
     "data": {
      "text/html": [
       "<div>\n",
       "<style scoped>\n",
       "    .dataframe tbody tr th:only-of-type {\n",
       "        vertical-align: middle;\n",
       "    }\n",
       "\n",
       "    .dataframe tbody tr th {\n",
       "        vertical-align: top;\n",
       "    }\n",
       "\n",
       "    .dataframe thead th {\n",
       "        text-align: right;\n",
       "    }\n",
       "</style>\n",
       "<table border=\"1\" class=\"dataframe\">\n",
       "  <thead>\n",
       "    <tr style=\"text-align: right;\">\n",
       "      <th></th>\n",
       "      <th>평일휴일</th>\n",
       "      <th>요일</th>\n",
       "      <th>시간대</th>\n",
       "      <th>성별</th>\n",
       "      <th>연령대</th>\n",
       "      <th>건수합계</th>\n",
       "      <th>네이버 태그 클릭량</th>\n",
       "    </tr>\n",
       "  </thead>\n",
       "  <tbody>\n",
       "    <tr>\n",
       "      <th>10678</th>\n",
       "      <td>0</td>\n",
       "      <td>6</td>\n",
       "      <td>4</td>\n",
       "      <td>0</td>\n",
       "      <td>4</td>\n",
       "      <td>521.0</td>\n",
       "      <td>170.0</td>\n",
       "    </tr>\n",
       "    <tr>\n",
       "      <th>18739</th>\n",
       "      <td>0</td>\n",
       "      <td>2</td>\n",
       "      <td>3</td>\n",
       "      <td>0</td>\n",
       "      <td>0</td>\n",
       "      <td>190.0</td>\n",
       "      <td>41.0</td>\n",
       "    </tr>\n",
       "    <tr>\n",
       "      <th>20605</th>\n",
       "      <td>1</td>\n",
       "      <td>4</td>\n",
       "      <td>0</td>\n",
       "      <td>1</td>\n",
       "      <td>3</td>\n",
       "      <td>97.0</td>\n",
       "      <td>54.0</td>\n",
       "    </tr>\n",
       "    <tr>\n",
       "      <th>9103</th>\n",
       "      <td>1</td>\n",
       "      <td>5</td>\n",
       "      <td>0</td>\n",
       "      <td>1</td>\n",
       "      <td>4</td>\n",
       "      <td>120.0</td>\n",
       "      <td>83.0</td>\n",
       "    </tr>\n",
       "    <tr>\n",
       "      <th>14645</th>\n",
       "      <td>0</td>\n",
       "      <td>0</td>\n",
       "      <td>1</td>\n",
       "      <td>0</td>\n",
       "      <td>0</td>\n",
       "      <td>475.0</td>\n",
       "      <td>33.0</td>\n",
       "    </tr>\n",
       "    <tr>\n",
       "      <th>...</th>\n",
       "      <td>...</td>\n",
       "      <td>...</td>\n",
       "      <td>...</td>\n",
       "      <td>...</td>\n",
       "      <td>...</td>\n",
       "      <td>...</td>\n",
       "      <td>...</td>\n",
       "    </tr>\n",
       "    <tr>\n",
       "      <th>12713</th>\n",
       "      <td>1</td>\n",
       "      <td>3</td>\n",
       "      <td>2</td>\n",
       "      <td>0</td>\n",
       "      <td>3</td>\n",
       "      <td>16.0</td>\n",
       "      <td>36.0</td>\n",
       "    </tr>\n",
       "    <tr>\n",
       "      <th>18146</th>\n",
       "      <td>0</td>\n",
       "      <td>6</td>\n",
       "      <td>4</td>\n",
       "      <td>1</td>\n",
       "      <td>3</td>\n",
       "      <td>1447.0</td>\n",
       "      <td>160.0</td>\n",
       "    </tr>\n",
       "    <tr>\n",
       "      <th>19501</th>\n",
       "      <td>1</td>\n",
       "      <td>4</td>\n",
       "      <td>2</td>\n",
       "      <td>0</td>\n",
       "      <td>1</td>\n",
       "      <td>2491.0</td>\n",
       "      <td>38.0</td>\n",
       "    </tr>\n",
       "    <tr>\n",
       "      <th>3349</th>\n",
       "      <td>1</td>\n",
       "      <td>0</td>\n",
       "      <td>0</td>\n",
       "      <td>0</td>\n",
       "      <td>3</td>\n",
       "      <td>10.0</td>\n",
       "      <td>96.0</td>\n",
       "    </tr>\n",
       "    <tr>\n",
       "      <th>11898</th>\n",
       "      <td>1</td>\n",
       "      <td>2</td>\n",
       "      <td>0</td>\n",
       "      <td>0</td>\n",
       "      <td>4</td>\n",
       "      <td>66.0</td>\n",
       "      <td>158.0</td>\n",
       "    </tr>\n",
       "  </tbody>\n",
       "</table>\n",
       "<p>8708 rows × 7 columns</p>\n",
       "</div>"
      ],
      "text/plain": [
       "       평일휴일  요일  시간대  성별  연령대    건수합계  네이버 태그 클릭량\n",
       "10678     0   6    4   0    4   521.0       170.0\n",
       "18739     0   2    3   0    0   190.0        41.0\n",
       "20605     1   4    0   1    3    97.0        54.0\n",
       "9103      1   5    0   1    4   120.0        83.0\n",
       "14645     0   0    1   0    0   475.0        33.0\n",
       "...     ...  ..  ...  ..  ...     ...         ...\n",
       "12713     1   3    2   0    3    16.0        36.0\n",
       "18146     0   6    4   1    3  1447.0       160.0\n",
       "19501     1   4    2   0    1  2491.0        38.0\n",
       "3349      1   0    0   0    3    10.0        96.0\n",
       "11898     1   2    0   0    4    66.0       158.0\n",
       "\n",
       "[8708 rows x 7 columns]"
      ]
     },
     "execution_count": 41,
     "metadata": {},
     "output_type": "execute_result"
    }
   ],
   "source": [
    "X_train"
   ]
  },
  {
   "cell_type": "code",
   "execution_count": 42,
   "id": "bc04fffa",
   "metadata": {},
   "outputs": [],
   "source": [
    "user = [0, 3, 4, 1,2, 300, 110] \n",
    "#평일, 월요일, 18시시-22시 , 남자, 연령대(40) , 건수합계: , 네이버 태그클릭양"
   ]
  },
  {
   "cell_type": "code",
   "execution_count": 43,
   "id": "98407d68",
   "metadata": {},
   "outputs": [
    {
     "name": "stdout",
     "output_type": "stream",
     "text": [
      "[[0. 0. 1. 0. 0. 0. 0.]]\n"
     ]
    }
   ],
   "source": [
    "result1 = dt_clf.predict_proba([user])\n",
    "print(result1)"
   ]
  },
  {
   "cell_type": "markdown",
   "id": "90bbf876",
   "metadata": {},
   "source": [
    "#### ['생활/사무용품' '식료품' '애완용품' '인테리어' '취미용품' '패션' '화장품']\n",
    "#### ['평일' '휴일']\n",
    "#### ['금' '목' '수' '월' '일' '토' '화']\n",
    "#### ['A.02-06시' 'B.06-10시' 'C.10-14시' 'D.14-18시' 'E.18-22시' 'F.22-02시']\n",
    "#### ['F' 'M']\n",
    "#### ['A.2O대' 'B.3O대' 'C.4O대' 'D.5O대' 'E.60대이상']"
   ]
  },
  {
   "cell_type": "code",
   "execution_count": 51,
   "id": "82f9b676",
   "metadata": {},
   "outputs": [],
   "source": [
    "import numpy as np \n",
    "import pickle\n",
    "import joblib"
   ]
  },
  {
   "cell_type": "code",
   "execution_count": 52,
   "id": "729ce5e7",
   "metadata": {},
   "outputs": [],
   "source": [
    "saved_model = pickle.dumps(dt_clf)"
   ]
  },
  {
   "cell_type": "code",
   "execution_count": 53,
   "id": "f9cee904",
   "metadata": {},
   "outputs": [],
   "source": [
    "lr_from_pickle = pickle.loads(saved_model)"
   ]
  },
  {
   "cell_type": "code",
   "execution_count": 54,
   "id": "2e14823a",
   "metadata": {},
   "outputs": [
    {
     "ename": "AttributeError",
     "evalue": "'list' object has no attribute 'reshape'",
     "output_type": "error",
     "traceback": [
      "\u001b[1;31m---------------------------------------------------------------------------\u001b[0m",
      "\u001b[1;31mAttributeError\u001b[0m                            Traceback (most recent call last)",
      "Input \u001b[1;32mIn [54]\u001b[0m, in \u001b[0;36m<cell line: 1>\u001b[1;34m()\u001b[0m\n\u001b[1;32m----> 1\u001b[0m user\u001b[38;5;241m=\u001b[39m\u001b[43muser\u001b[49m\u001b[38;5;241;43m.\u001b[39;49m\u001b[43mreshape\u001b[49m(\u001b[38;5;241m-\u001b[39m\u001b[38;5;241m1\u001b[39m,\u001b[38;5;241m1\u001b[39m)\n\u001b[0;32m      2\u001b[0m lr_from_pickle\u001b[38;5;241m.\u001b[39mpredict_proba(user)\n",
      "\u001b[1;31mAttributeError\u001b[0m: 'list' object has no attribute 'reshape'"
     ]
    }
   ],
   "source": [
    "user=user.reshape(-1,1)\n",
    "lr_from_pickle.predict_proba(user)"
   ]
  },
  {
   "cell_type": "code",
   "execution_count": 55,
   "id": "796739ae",
   "metadata": {},
   "outputs": [
    {
     "data": {
      "text/plain": [
       "['shop_ml.pkl']"
      ]
     },
     "execution_count": 55,
     "metadata": {},
     "output_type": "execute_result"
    }
   ],
   "source": [
    "joblib.dump(dt_clf, 'shop_ml.pkl')"
   ]
  },
  {
   "cell_type": "code",
   "execution_count": null,
   "id": "35ad0a33",
   "metadata": {},
   "outputs": [],
   "source": []
  }
 ],
 "metadata": {
  "kernelspec": {
   "display_name": "Python 3 (ipykernel)",
   "language": "python",
   "name": "python3"
  },
  "language_info": {
   "codemirror_mode": {
    "name": "ipython",
    "version": 3
   },
   "file_extension": ".py",
   "mimetype": "text/x-python",
   "name": "python",
   "nbconvert_exporter": "python",
   "pygments_lexer": "ipython3",
   "version": "3.9.12"
  }
 },
 "nbformat": 4,
 "nbformat_minor": 5
}
